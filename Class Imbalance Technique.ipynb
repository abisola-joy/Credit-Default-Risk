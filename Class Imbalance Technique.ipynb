{
 "cells": [
  {
   "cell_type": "code",
   "execution_count": 1,
   "id": "c7fba888-ed92-4384-9fcd-2fed614162c9",
   "metadata": {},
   "outputs": [],
   "source": [
    "import pandas as pd\n",
    "import numpy as np\n",
    "import matplotlib.pyplot as plt\n",
    "import seaborn as sns\n",
    "from sklearn.model_selection import train_test_split\n",
    "from xgboost import XGBClassifier\n",
    "from sklearn.metrics import (accuracy_score, precision_score, recall_score, classification_report, \n",
    "                             confusion_matrix, roc_auc_score)\n",
    "from imblearn.over_sampling import SMOTE, ADASYN, RandomOverSampler\n",
    "from imblearn.under_sampling import RandomUnderSampler, TomekLinks\n",
    "from imblearn.combine import SMOTETomek, SMOTEENN\n",
    "from collections import Counter"
   ]
  },
  {
   "cell_type": "code",
   "execution_count": 2,
   "id": "7582de75-d3bf-4567-809e-182be1d1ed95",
   "metadata": {},
   "outputs": [],
   "source": [
    "# load the preprocessed data\n",
    "data = pd.read_csv('Cleaned_data_53v_Final.csv')"
   ]
  },
  {
   "cell_type": "code",
   "execution_count": 3,
   "id": "244baec6-60e2-4656-aba6-33de49472297",
   "metadata": {},
   "outputs": [],
   "source": [
    "X = data.drop(columns=['target'])\n",
    "y = data['target']"
   ]
  },
  {
   "cell_type": "code",
   "execution_count": 4,
   "id": "9678ae7f-0836-4d32-9c64-c9c5282c3df0",
   "metadata": {
    "tags": []
   },
   "outputs": [
    {
     "data": {
      "text/plain": [
       "target\n",
       "0    315449\n",
       "1     78624\n",
       "Name: count, dtype: int64"
      ]
     },
     "execution_count": 4,
     "metadata": {},
     "output_type": "execute_result"
    }
   ],
   "source": [
    "# class distribution before resampling\n",
    "target_counts = y.value_counts()\n",
    "sizes = [target_counts[0], target_counts[1]]\n",
    "\n",
    "target_counts"
   ]
  },
  {
   "cell_type": "code",
   "execution_count": 5,
   "id": "3500cfc6-e87c-4b7c-98dc-030ef26f9223",
   "metadata": {
    "tags": []
   },
   "outputs": [
    {
     "data": {
      "image/png": "[encoded data removed]",
      "text/plain": [
       "<Figure size 640x480 with 1 Axes>"
      ]
     },
     "metadata": {},
     "output_type": "display_data"
    }
   ],
   "source": [
    "fig, ax = plt.subplots()\n",
    "ax.pie(sizes, labels=['0: Good Loan', '1: Bad Loan'], autopct='%1.1f%%', startangle=90, explode=(0, 0.1))\n",
    "ax.axis('equal')\n",
    "plt.title('Distribution of Targets', fontsize=24, fontweight='bold')\n",
    "plt.show()"
   ]
  },
  {
   "cell_type": "markdown",
   "id": "02eca070-c195-4313-81f9-8054d9d8f0a2",
   "metadata": {},
   "source": [
    "## Class Imbalance Handling Techniques"
   ]
  },
  {
   "cell_type": "markdown",
   "id": "a6523228-1737-4991-988a-f33dac5430b6",
   "metadata": {},
   "source": [
    "### Sampling Techniques"
   ]
  },
  {
   "cell_type": "code",
   "execution_count": 6,
   "id": "970516a5-999e-4f62-857a-915110337c40",
   "metadata": {},
   "outputs": [],
   "source": [
    "# https://imbalanced-learn.org/stable/over_sampling.html\n",
    "# https://imbalanced-learn.org/stable/under_sampling.html\n",
    "# https://imbalanced-learn.org/stable/combine.html\n",
    "sampling_techniques = {\n",
    "    'None': (None, None),\n",
    "    'ROS': (RandomOverSampler(random_state=42), \"Over\"),\n",
    "    'SMOTE': (SMOTE(random_state=42), \"Over\"),\n",
    "    'ADASYN': (ADASYN(random_state=42), \"Over\"),\n",
    "    'RUS': (RandomUnderSampler(random_state=42), \"Under\"),\n",
    "    'Tomek-Links': (TomekLinks(), \"Under\"),\n",
    "    'SMOTE-Tomek': (SMOTETomek(random_state=42), \"Combine\"),\n",
    "    'SMOTE+ENN': (SMOTEENN(sampling_strategy='minority',random_state=42), \"Combine\")\n",
    "    # sampling strategy 'minority'means resample only the minority class\n",
    "}"
   ]
  },
  {
   "cell_type": "markdown",
   "id": "183fe597-5310-44e7-be41-42eb97797e45",
   "metadata": {},
   "source": [
    "### Result"
   ]
  },
  {
   "cell_type": "code",
   "execution_count": 7,
   "id": "39f8f312-ff29-4074-991d-e8e52203e888",
   "metadata": {
    "scrolled": true,
    "tags": []
   },
   "outputs": [
    {
     "name": "stdout",
     "output_type": "stream",
     "text": [
      "\n",
      "Sampling Technique:  None\n",
      "Class distribution after resampling:  Counter({0: 315449, 1: 78624})\n",
      "              precision    recall  f1-score   support\n",
      "\n",
      "           0       0.82      0.98      0.89     63192\n",
      "           1       0.54      0.11      0.18     15623\n",
      "\n",
      "    accuracy                           0.80     78815\n",
      "   macro avg       0.68      0.54      0.54     78815\n",
      "weighted avg       0.76      0.80      0.75     78815\n",
      "\n",
      "\n",
      "Sampling Technique:  ROS\n",
      "Class distribution after resampling:  Counter({0: 315449, 1: 315449})\n",
      "              precision    recall  f1-score   support\n",
      "\n",
      "           0       0.69      0.67      0.68     63084\n",
      "           1       0.68      0.71      0.69     63096\n",
      "\n",
      "    accuracy                           0.69    126180\n",
      "   macro avg       0.69      0.69      0.69    126180\n",
      "weighted avg       0.69      0.69      0.69    126180\n",
      "\n",
      "\n",
      "Sampling Technique:  SMOTE\n",
      "Class distribution after resampling:  Counter({0: 315449, 1: 315449})\n",
      "              precision    recall  f1-score   support\n",
      "\n",
      "           0       0.81      0.97      0.89     63084\n",
      "           1       0.97      0.78      0.86     63096\n",
      "\n",
      "    accuracy                           0.88    126180\n",
      "   macro avg       0.89      0.88      0.88    126180\n",
      "weighted avg       0.89      0.88      0.88    126180\n",
      "\n",
      "\n",
      "Sampling Technique:  ADASYN\n",
      "Class distribution after resampling:  Counter({0: 315449, 1: 303403})\n",
      "              precision    recall  f1-score   support\n",
      "\n",
      "           0       0.81      0.98      0.89     63092\n",
      "           1       0.97      0.77      0.86     60679\n",
      "\n",
      "    accuracy                           0.87    123771\n",
      "   macro avg       0.89      0.87      0.87    123771\n",
      "weighted avg       0.89      0.87      0.87    123771\n",
      "\n",
      "\n",
      "Sampling Technique:  RUS\n",
      "Class distribution after resampling:  Counter({0: 78624, 1: 78624})\n",
      "              precision    recall  f1-score   support\n",
      "\n",
      "           0       0.65      0.63      0.64     15663\n",
      "           1       0.65      0.67      0.66     15787\n",
      "\n",
      "    accuracy                           0.65     31450\n",
      "   macro avg       0.65      0.65      0.65     31450\n",
      "weighted avg       0.65      0.65      0.65     31450\n",
      "\n",
      "\n",
      "Sampling Technique:  Tomek-Links\n",
      "Class distribution after resampling:  Counter({0: 298978, 1: 78624})\n",
      "              precision    recall  f1-score   support\n",
      "\n",
      "           0       0.81      0.97      0.88     59717\n",
      "           1       0.54      0.14      0.22     15804\n",
      "\n",
      "    accuracy                           0.79     75521\n",
      "   macro avg       0.67      0.55      0.55     75521\n",
      "weighted avg       0.75      0.79      0.74     75521\n",
      "\n",
      "\n",
      "Sampling Technique:  SMOTE-Tomek\n",
      "Class distribution after resampling:  Counter({0: 314514, 1: 314514})\n",
      "              precision    recall  f1-score   support\n",
      "\n",
      "           0       0.81      0.97      0.89     62986\n",
      "           1       0.97      0.78      0.86     62820\n",
      "\n",
      "    accuracy                           0.88    125806\n",
      "   macro avg       0.89      0.88      0.87    125806\n",
      "weighted avg       0.89      0.88      0.87    125806\n",
      "\n",
      "\n",
      "Sampling Technique:  SMOTE+ENN\n",
      "Class distribution after resampling:  Counter({1: 296056, 0: 115379})\n",
      "              precision    recall  f1-score   support\n",
      "\n",
      "           0       0.81      0.87      0.84     23065\n",
      "           1       0.95      0.92      0.93     59222\n",
      "\n",
      "    accuracy                           0.90     82287\n",
      "   macro avg       0.88      0.89      0.88     82287\n",
      "weighted avg       0.91      0.90      0.91     82287\n",
      "\n"
     ]
    }
   ],
   "source": [
    "results = []\n",
    "\n",
    "for name, (technique, type) in sampling_techniques.items():\n",
    "    print(\"\\nSampling Technique: \",name)\n",
    "\n",
    "    # resample the data\n",
    "    if technique is not None:\n",
    "        X_resampled, y_resampled = technique.fit_resample(X, y)\n",
    "    else:\n",
    "        X_resampled, y_resampled = X, y\n",
    "\n",
    "    dist = Counter(y_resampled)\n",
    "    print(\"Class distribution after resampling: \", dist)\n",
    "    \n",
    "    # split the balanced data\n",
    "    X_train, X_test, y_train, y_test = train_test_split(X_resampled, y_resampled, test_size=0.20, random_state=42)\n",
    "\n",
    "    model = XGBClassifier(random_state=42)\n",
    "    model.fit(X_train, y_train)\n",
    "\n",
    "    y_pred = model.predict(X_test)\n",
    "    y_prob = model.predict_proba(X_test)[:, 1]\n",
    "\n",
    "    print(classification_report(y_test, y_pred))\n",
    "\n",
    "    # model evaluation\n",
    "    accuracy = accuracy_score(y_test, y_pred)\n",
    "    precision = precision_score(y_test, y_pred)\n",
    "    recall = recall_score(y_test, y_pred)\n",
    "    auc_roc = roc_auc_score(y_test, y_prob)\n",
    "\n",
    "    results.append({\n",
    "        'Method': name,\n",
    "        'Accuracy': accuracy,\n",
    "        'Precision': precision,\n",
    "        'Recall': recall,\n",
    "        'AUC-ROC': auc_roc\n",
    "    })"
   ]
  },
  {
   "cell_type": "code",
   "execution_count": 8,
   "id": "7178e0a4-a5ce-44b2-835e-cc2bb0011221",
   "metadata": {
    "tags": []
   },
   "outputs": [
    {
     "data": {
      "text/html": [
       "<div>\n",
       "<style scoped>\n",
       "    .dataframe tbody tr th:only-of-type {\n",
       "        vertical-align: middle;\n",
       "    }\n",
       "\n",
       "    .dataframe tbody tr th {\n",
       "        vertical-align: top;\n",
       "    }\n",
       "\n",
       "    .dataframe thead th {\n",
       "        text-align: right;\n",
       "    }\n",
       "</style>\n",
       "<table border=\"1\" class=\"dataframe\">\n",
       "  <thead>\n",
       "    <tr style=\"text-align: right;\">\n",
       "      <th></th>\n",
       "      <th>Method</th>\n",
       "      <th>Accuracy</th>\n",
       "      <th>Precision</th>\n",
       "      <th>Recall</th>\n",
       "      <th>AUC-ROC</th>\n",
       "    </tr>\n",
       "  </thead>\n",
       "  <tbody>\n",
       "    <tr>\n",
       "      <th>0</th>\n",
       "      <td>None</td>\n",
       "      <td>0.804720</td>\n",
       "      <td>0.536160</td>\n",
       "      <td>0.110094</td>\n",
       "      <td>0.717113</td>\n",
       "    </tr>\n",
       "    <tr>\n",
       "      <th>1</th>\n",
       "      <td>ROS</td>\n",
       "      <td>0.687391</td>\n",
       "      <td>0.680650</td>\n",
       "      <td>0.706162</td>\n",
       "      <td>0.755934</td>\n",
       "    </tr>\n",
       "    <tr>\n",
       "      <th>2</th>\n",
       "      <td>SMOTE</td>\n",
       "      <td>0.876613</td>\n",
       "      <td>0.968366</td>\n",
       "      <td>0.778686</td>\n",
       "      <td>0.928387</td>\n",
       "    </tr>\n",
       "    <tr>\n",
       "      <th>3</th>\n",
       "      <td>ADASYN</td>\n",
       "      <td>0.874526</td>\n",
       "      <td>0.968555</td>\n",
       "      <td>0.769030</td>\n",
       "      <td>0.926556</td>\n",
       "    </tr>\n",
       "    <tr>\n",
       "      <th>4</th>\n",
       "      <td>RUS</td>\n",
       "      <td>0.650048</td>\n",
       "      <td>0.646468</td>\n",
       "      <td>0.668335</td>\n",
       "      <td>0.707898</td>\n",
       "    </tr>\n",
       "    <tr>\n",
       "      <th>5</th>\n",
       "      <td>Tomek-Links</td>\n",
       "      <td>0.794680</td>\n",
       "      <td>0.536754</td>\n",
       "      <td>0.137687</td>\n",
       "      <td>0.719695</td>\n",
       "    </tr>\n",
       "    <tr>\n",
       "      <th>6</th>\n",
       "      <td>SMOTE-Tomek</td>\n",
       "      <td>0.876214</td>\n",
       "      <td>0.967913</td>\n",
       "      <td>0.777889</td>\n",
       "      <td>0.929491</td>\n",
       "    </tr>\n",
       "    <tr>\n",
       "      <th>7</th>\n",
       "      <td>SMOTE+ENN</td>\n",
       "      <td>0.904870</td>\n",
       "      <td>0.946113</td>\n",
       "      <td>0.920232</td>\n",
       "      <td>0.965390</td>\n",
       "    </tr>\n",
       "  </tbody>\n",
       "</table>\n",
       "</div>"
      ],
      "text/plain": [
       "        Method  Accuracy  Precision    Recall   AUC-ROC\n",
       "0         None  0.804720   0.536160  0.110094  0.717113\n",
       "1          ROS  0.687391   0.680650  0.706162  0.755934\n",
       "2        SMOTE  0.876613   0.968366  0.778686  0.928387\n",
       "3       ADASYN  0.874526   0.968555  0.769030  0.926556\n",
       "4          RUS  0.650048   0.646468  0.668335  0.707898\n",
       "5  Tomek-Links  0.794680   0.536754  0.137687  0.719695\n",
       "6  SMOTE-Tomek  0.876214   0.967913  0.777889  0.929491\n",
       "7    SMOTE+ENN  0.904870   0.946113  0.920232  0.965390"
      ]
     },
     "execution_count": 8,
     "metadata": {},
     "output_type": "execute_result"
    }
   ],
   "source": [
    "samp_results = pd.DataFrame(results)\n",
    "samp_results"
   ]
  },
  {
   "cell_type": "markdown",
   "id": "829f2766-e5b8-46fb-bb80-a5270e26aa10",
   "metadata": {},
   "source": [
    "## Training Split to choose"
   ]
  },
  {
   "cell_type": "code",
   "execution_count": 18,
   "id": "f3ee44e7-4833-4a28-9107-d3d5213c01ee",
   "metadata": {},
   "outputs": [],
   "source": [
    "# declare XGBoost, and test_size\n",
    "model = XGBClassifier() \n",
    "data_split = [], sizes = [0.20, 0.25, 0.30, 0.35, 0.40]"
   ]
  },
  {
   "cell_type": "code",
   "execution_count": 22,
   "id": "453d7418-e770-494f-a6ce-cee51b091349",
   "metadata": {},
   "outputs": [],
   "source": [
    "# function to calculate the performance metrics used in this project\n",
    "def performance_metrics(y_true, y_pred, y_prob, size):\n",
    "    accuracy = accuracy_score(y_true, y_pred)\n",
    "    precision = precision_score(y_true, y_pred)\n",
    "    recall = recall_score(y_true, y_pred)\n",
    "    auc = roc_auc_score(y_true, y_prob)\n",
    "    \n",
    "    data_split.append({'Test Size': size, 'Accuracy': accuracy, \n",
    "                       'Precision': precision, \n",
    "                       'Recall': recall, 'AUC': auc})"
   ]
  },
  {
   "cell_type": "code",
   "execution_count": 25,
   "id": "dc45044f-14e2-413e-b237-ec2b5a432e0d",
   "metadata": {
    "scrolled": true
   },
   "outputs": [],
   "source": [
    "# test the different test ratios and append result to the list\n",
    "for size in sizes:\n",
    "    X_train, X_test, y_train, y_test = train_test_split(X_resampled, y_resampled, test_size=size, random_state=42)\n",
    "    model.fit(X_train, y_train)\n",
    "    \n",
    "    y_train_pred = model.predict(X_train)\n",
    "    y_test_pred = model.predict(X_test)\n",
    "\n",
    "    y_train_prob = model.predict_proba(X_train)[:, 1]\n",
    "    y_test_prob = model.predict_proba(X_test)[:, 1]\n",
    "\n",
    "    performance_metrics(y_test, y_test_pred, y_test_prob, size)"
   ]
  },
  {
   "cell_type": "code",
   "execution_count": 26,
   "id": "2e208892-431f-41bf-83de-11e168837270",
   "metadata": {},
   "outputs": [
    {
     "data": {
      "text/html": [
       "<div>\n",
       "<style scoped>\n",
       "    .dataframe tbody tr th:only-of-type {\n",
       "        vertical-align: middle;\n",
       "    }\n",
       "\n",
       "    .dataframe tbody tr th {\n",
       "        vertical-align: top;\n",
       "    }\n",
       "\n",
       "    .dataframe thead th {\n",
       "        text-align: right;\n",
       "    }\n",
       "</style>\n",
       "<table border=\"1\" class=\"dataframe\">\n",
       "  <thead>\n",
       "    <tr style=\"text-align: right;\">\n",
       "      <th></th>\n",
       "      <th>Test Size</th>\n",
       "      <th>Accuracy</th>\n",
       "      <th>Precision</th>\n",
       "      <th>Recall</th>\n",
       "      <th>AUC</th>\n",
       "    </tr>\n",
       "  </thead>\n",
       "  <tbody>\n",
       "    <tr>\n",
       "      <th>0</th>\n",
       "      <td>0.20</td>\n",
       "      <td>0.904870</td>\n",
       "      <td>0.946113</td>\n",
       "      <td>0.920232</td>\n",
       "      <td>0.965390</td>\n",
       "    </tr>\n",
       "    <tr>\n",
       "      <th>1</th>\n",
       "      <td>0.25</td>\n",
       "      <td>0.903256</td>\n",
       "      <td>0.943461</td>\n",
       "      <td>0.920673</td>\n",
       "      <td>0.965105</td>\n",
       "    </tr>\n",
       "    <tr>\n",
       "      <th>2</th>\n",
       "      <td>0.30</td>\n",
       "      <td>0.904019</td>\n",
       "      <td>0.945253</td>\n",
       "      <td>0.919943</td>\n",
       "      <td>0.965216</td>\n",
       "    </tr>\n",
       "    <tr>\n",
       "      <th>3</th>\n",
       "      <td>0.35</td>\n",
       "      <td>0.903335</td>\n",
       "      <td>0.944648</td>\n",
       "      <td>0.919718</td>\n",
       "      <td>0.965311</td>\n",
       "    </tr>\n",
       "    <tr>\n",
       "      <th>4</th>\n",
       "      <td>0.40</td>\n",
       "      <td>0.903636</td>\n",
       "      <td>0.944510</td>\n",
       "      <td>0.920203</td>\n",
       "      <td>0.965050</td>\n",
       "    </tr>\n",
       "  </tbody>\n",
       "</table>\n",
       "</div>"
      ],
      "text/plain": [
       "   Test Size  Accuracy  Precision    Recall       AUC\n",
       "0       0.20  0.904870   0.946113  0.920232  0.965390\n",
       "1       0.25  0.903256   0.943461  0.920673  0.965105\n",
       "2       0.30  0.904019   0.945253  0.919943  0.965216\n",
       "3       0.35  0.903335   0.944648  0.919718  0.965311\n",
       "4       0.40  0.903636   0.944510  0.920203  0.965050"
      ]
     },
     "execution_count": 26,
     "metadata": {},
     "output_type": "execute_result"
    }
   ],
   "source": [
    "ratio = pd.DataFrame(data_split)\n",
    "ratio"
   ]
  },
  {
   "cell_type": "code",
   "execution_count": 27,
   "id": "51b2ce3e-83f4-4e5c-88f4-869b7f60cd99",
   "metadata": {},
   "outputs": [
    {
     "data": {
      "text/plain": [
       "Accuracy     0.904870\n",
       "Precision    0.946113\n",
       "Recall       0.920673\n",
       "AUC          0.965390\n",
       "dtype: float64"
      ]
     },
     "execution_count": 27,
     "metadata": {},
     "output_type": "execute_result"
    }
   ],
   "source": [
    "ratio[['Accuracy', 'Precision', 'Recall', 'AUC']].max()"
   ]
  },
  {
   "cell_type": "code",
   "execution_count": null,
   "id": "8cd6b9c4-273e-46c9-affb-e901e6133686",
   "metadata": {},
   "outputs": [],
   "source": []
  }
 ],
 "metadata": {
  "kernelspec": {
   "display_name": "Python 3 (ipykernel)",
   "language": "python",
   "name": "python3"
  },
  "language_info": {
   "codemirror_mode": {
    "name": "ipython",
    "version": 3
   },
   "file_extension": ".py",
   "mimetype": "text/x-python",
   "name": "python",
   "nbconvert_exporter": "python",
   "pygments_lexer": "ipython3",
   "version": "3.11.5"
  }
 },
 "nbformat": 4,
 "nbformat_minor": 5
}
