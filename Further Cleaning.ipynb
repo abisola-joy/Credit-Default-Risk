{
 "cells": [
  {
   "cell_type": "code",
   "execution_count": 1,
   "id": "4c0f5408-3e97-4ac2-9781-c76a3974d375",
   "metadata": {
    "tags": []
   },
   "outputs": [],
   "source": [
    "import pandas as pd\n",
    "import numpy as np\n",
    "\n",
    "import seaborn as sns\n",
    "import matplotlib.pyplot as plt\n",
    "import math\n",
    "\n",
    "from scipy.stats import zscore, mstats\n",
    "from scipy.stats.mstats import winsorize\n",
    "\n",
    "from sklearn.model_selection import train_test_split\n",
    "from sklearn.preprocessing import (StandardScaler, MinMaxScaler, \n",
    "                                RobustScaler, MaxAbsScaler, OneHotEncoder)\n",
    "\n",
    "from sklearn.ensemble import RandomForestClassifier\n",
    "from sklearn.metrics import (accuracy_score, recall_score, log_loss, roc_auc_score,\n",
    "                                precision_score, confusion_matrix)\n",
    "\n",
    "from sklearn.decomposition import PCA\n",
    "from xgboost import XGBClassifier\n",
    "\n",
    "pd.set_option('display.max_rows', 100)\n",
    "pd.set_option('display.max_columns', 100)\n",
    "pd.set_option('display.width', 500)\n",
    "\n",
    "import warnings\n",
    "warnings.filterwarnings('ignore')"
   ]
  },
  {
   "cell_type": "markdown",
   "id": "5455ae5a-e3f0-4884-8aba-4cefb78bf9e0",
   "metadata": {},
   "source": [
    "# Data Import - Accepted Data"
   ]
  },
  {
   "cell_type": "code",
   "execution_count": 2,
   "id": "212b84aa-f0d8-4301-8bd9-6558ab053258",
   "metadata": {},
   "outputs": [],
   "source": [
    "# load accepted data\n",
    "clean_data  = pd.read_csv(\"cleaned_data.csv\")"
   ]
  },
  {
   "cell_type": "code",
   "execution_count": 3,
   "id": "460fc43a-3801-4106-82fd-40f91a2c492f",
   "metadata": {
    "scrolled": true,
    "tags": []
   },
   "outputs": [
    {
     "name": "stdout",
     "output_type": "stream",
     "text": [
      "<class 'pandas.core.frame.DataFrame'>\n",
      "RangeIndex: 403591 entries, 0 to 403590\n",
      "Data columns (total 44 columns):\n",
      " #   Column                      Non-Null Count   Dtype  \n",
      "---  ------                      --------------   -----  \n",
      " 0   loan_amnt                   403591 non-null  float64\n",
      " 1   term                        403591 non-null  int64  \n",
      " 2   int_rate                    403591 non-null  float64\n",
      " 3   installment                 403591 non-null  float64\n",
      " 4   home_ownership              403591 non-null  object \n",
      " 5   annual_inc                  403591 non-null  float64\n",
      " 6   verification_status         403591 non-null  object \n",
      " 7   purpose                     403591 non-null  object \n",
      " 8   dti                         403591 non-null  float64\n",
      " 9   delinq_2yrs                 403591 non-null  float64\n",
      " 10  fico_range_low              403591 non-null  float64\n",
      " 11  open_acc                    403591 non-null  float64\n",
      " 12  pub_rec                     403591 non-null  float64\n",
      " 13  revol_bal                   403591 non-null  float64\n",
      " 14  revol_util                  403591 non-null  float64\n",
      " 15  total_acc                   403591 non-null  float64\n",
      " 16  initial_list_status         403591 non-null  object \n",
      " 17  application_type            403591 non-null  object \n",
      " 18  total_rev_hi_lim            403591 non-null  float64\n",
      " 19  avg_cur_bal                 403591 non-null  float64\n",
      " 20  bc_open_to_buy              403591 non-null  float64\n",
      " 21  bc_util                     403591 non-null  float64\n",
      " 22  mo_sin_old_il_acct          403591 non-null  float64\n",
      " 23  mo_sin_old_rev_tl_op        403591 non-null  float64\n",
      " 24  mo_sin_rcnt_rev_tl_op       403591 non-null  float64\n",
      " 25  mo_sin_rcnt_tl              403591 non-null  float64\n",
      " 26  mort_acc                    403591 non-null  float64\n",
      " 27  mths_since_recent_bc        403591 non-null  float64\n",
      " 28  num_actv_bc_tl              403591 non-null  float64\n",
      " 29  num_actv_rev_tl             403591 non-null  float64\n",
      " 30  num_bc_sats                 403591 non-null  float64\n",
      " 31  num_bc_tl                   403591 non-null  float64\n",
      " 32  num_il_tl                   403591 non-null  float64\n",
      " 33  num_op_rev_tl               403591 non-null  float64\n",
      " 34  num_rev_accts               403591 non-null  float64\n",
      " 35  pct_tl_nvr_dlq              403591 non-null  float64\n",
      " 36  percent_bc_gt_75            403591 non-null  float64\n",
      " 37  pub_rec_bankruptcies        403591 non-null  float64\n",
      " 38  tot_hi_cred_lim             403591 non-null  float64\n",
      " 39  total_bal_ex_mort           403591 non-null  float64\n",
      " 40  total_bc_limit              403591 non-null  float64\n",
      " 41  total_il_high_credit_limit  403591 non-null  float64\n",
      " 42  target                      403591 non-null  int64  \n",
      " 43  region                      403591 non-null  object \n",
      "dtypes: float64(36), int64(2), object(6)\n",
      "memory usage: 135.5+ MB\n"
     ]
    }
   ],
   "source": [
    "clean_data.info()"
   ]
  },
  {
   "cell_type": "markdown",
   "id": "d0644fb8-40a5-4a11-a1d8-464de7e1d201",
   "metadata": {},
   "source": [
    "# Data Preprocessing"
   ]
  },
  {
   "cell_type": "code",
   "execution_count": 4,
   "id": "995781c0-e50d-401f-ae5c-e552c3730d0d",
   "metadata": {},
   "outputs": [],
   "source": [
    "# remove possible errors\n",
    "clean_data = clean_data[((clean_data['annual_inc'] <= 250000))]\n",
    "clean_data = clean_data[(clean_data['dti'] <= 40)]\n",
    "clean_data = clean_data[(clean_data['open_acc'] <= 30)]\n",
    "clean_data = clean_data[(clean_data['total_acc'] <= 70)]"
   ]
  },
  {
   "cell_type": "code",
   "execution_count": 5,
   "id": "c5501806-7aac-4122-a053-d26b5928430c",
   "metadata": {},
   "outputs": [],
   "source": [
    "def divide(var_1, var_2):\n",
    "    return np.where(var_2 == 0, 0, var_1 / var_2)"
   ]
  },
  {
   "cell_type": "code",
   "execution_count": 6,
   "id": "cca69af3-9edb-4536-8a74-a6514e1a46fa",
   "metadata": {
    "tags": []
   },
   "outputs": [],
   "source": [
    "# clean_data['annual_inc']\n",
    "# clean_data['revol_bal'].max()"
   ]
  },
  {
   "cell_type": "code",
   "execution_count": 7,
   "id": "3f335409-c89c-4ade-9ae0-c97de985050b",
   "metadata": {
    "tags": []
   },
   "outputs": [],
   "source": [
    "clean_data['annual_inc_installment'] = divide(clean_data['annual_inc'], clean_data['installment'])\n",
    "clean_data['revol_bal_annual_inc'] = divide(clean_data['revol_bal'], clean_data['annual_inc'])\n",
    "clean_data['annual_inc_dti'] = clean_data['annual_inc'] * clean_data['dti']\n",
    "clean_data['loan_amnt_dti'] = clean_data['loan_amnt'] * clean_data['dti']\n",
    "# clean_data['annual_inc_total_acc'] = clean_data['annual_inc'] * clean_data['total_acc']"
   ]
  },
  {
   "cell_type": "code",
   "execution_count": 8,
   "id": "bea98aab-44aa-4333-9cb1-a47e7f6f2b37",
   "metadata": {
    "tags": []
   },
   "outputs": [],
   "source": [
    "# binning annual income and revolving balance to maybe capture non-linear relationships\n",
    "clean_data['annual_inc_binned'] = pd.cut(clean_data['annual_inc'], bins=[0, 20000, 50000, 100000, 200000, np.inf], labels=['Very Low', 'Low', 'Medium', 'High', 'Very High'])\n",
    "clean_data['revol_bal_binned'] = pd.cut(clean_data['revol_bal'], bins=[0, 20000, 50000, 100000, 200000, np.inf], labels=['Very Low', 'Low', 'Medium', 'High', 'Very High'])"
   ]
  },
  {
   "cell_type": "code",
   "execution_count": 9,
   "id": "ea7a4f07-bb48-452b-acf5-8be0b77eab19",
   "metadata": {},
   "outputs": [],
   "source": [
    "# handle missing values if any\n",
    "clean_data['annual_inc_binned'] = clean_data['annual_inc_binned'].cat.add_categories('none')\n",
    "clean_data['revol_bal_binned'] = clean_data['revol_bal_binned'].cat.add_categories('none')"
   ]
  },
  {
   "cell_type": "code",
   "execution_count": 10,
   "id": "b06e1a58-79c6-4c7c-ae44-00659e1fe83d",
   "metadata": {},
   "outputs": [],
   "source": [
    "clean_data['annual_inc_binned'].fillna('none', inplace=True)\n",
    "clean_data['revol_bal_binned'].fillna('none', inplace=True)"
   ]
  },
  {
   "cell_type": "code",
   "execution_count": 11,
   "id": "17600221-5f49-4698-9583-9ec7284e7abc",
   "metadata": {
    "tags": []
   },
   "outputs": [],
   "source": [
    "# taking it out due to it's high correlation to loan amount\n",
    "clean_data.drop(columns= ['installment'], inplace=True)"
   ]
  },
  {
   "cell_type": "code",
   "execution_count": 12,
   "id": "146866b0-b210-4441-8e2e-50bea3e11b9e",
   "metadata": {
    "tags": []
   },
   "outputs": [],
   "source": [
    "numeric_data = clean_data.select_dtypes(include=['int', 'float'])\n",
    "numeric_data = numeric_data.drop(['target'], axis=1)"
   ]
  },
  {
   "cell_type": "code",
   "execution_count": 13,
   "id": "f140b6da-83b1-4b14-bb68-1e63b538e15c",
   "metadata": {
    "tags": []
   },
   "outputs": [
    {
     "data": {
      "text/plain": [
       "(394073, 49)"
      ]
     },
     "execution_count": 13,
     "metadata": {},
     "output_type": "execute_result"
    }
   ],
   "source": [
    "clean_data.shape"
   ]
  },
  {
   "cell_type": "code",
   "execution_count": 14,
   "id": "dff21c26-86b5-412d-935d-a85811adbcee",
   "metadata": {},
   "outputs": [],
   "source": [
    "sampled_data = clean_data.copy()"
   ]
  },
  {
   "cell_type": "markdown",
   "id": "2e4f704f-3a6d-40d7-ba85-ed925240b4ff",
   "metadata": {},
   "source": [
    "## **One-Hot Encoding**"
   ]
  },
  {
   "cell_type": "code",
   "execution_count": 15,
   "id": "328c4495-ba49-4c8c-aed4-54db424c2312",
   "metadata": {
    "scrolled": true,
    "tags": []
   },
   "outputs": [
    {
     "name": "stdout",
     "output_type": "stream",
     "text": [
      "Group sizes for column 'home_ownership':\n",
      "home_ownership\n",
      "ANY             88\n",
      "MORTGAGE    193840\n",
      "NONE            16\n",
      "OTHER           49\n",
      "OWN          42661\n",
      "RENT        157419\n",
      "dtype: int64\n",
      "\n",
      "Group sizes for column 'verification_status':\n",
      "verification_status\n",
      "Not Verified       119854\n",
      "Source Verified    152643\n",
      "Verified           121576\n",
      "dtype: int64\n",
      "\n",
      "Group sizes for column 'purpose':\n",
      "purpose\n",
      "car                     4356\n",
      "credit_card            86324\n",
      "debt_consolidation    229426\n",
      "educational               98\n",
      "home_improvement       25008\n",
      "house                   2140\n",
      "major_purchase          8679\n",
      "medical                 4519\n",
      "moving                  2766\n",
      "other                  22864\n",
      "renewable_energy         284\n",
      "small_business          4310\n",
      "vacation                2635\n",
      "wedding                  664\n",
      "dtype: int64\n",
      "\n",
      "Group sizes for column 'initial_list_status':\n",
      "initial_list_status\n",
      "f    165683\n",
      "w    228390\n",
      "dtype: int64\n",
      "\n",
      "Group sizes for column 'application_type':\n",
      "application_type\n",
      "Individual    387885\n",
      "Joint App       6188\n",
      "dtype: int64\n",
      "\n",
      "Group sizes for column 'region':\n",
      "region\n",
      "MidWest      68961\n",
      "NorthEast    88305\n",
      "SouthEast    95040\n",
      "SouthWest    47657\n",
      "West         94110\n",
      "dtype: int64\n",
      "\n",
      "Group sizes for column 'annual_inc_binned':\n",
      "annual_inc_binned\n",
      "Very Low       6018\n",
      "Low          122237\n",
      "Medium       195937\n",
      "High          65495\n",
      "Very High      4287\n",
      "none             99\n",
      "dtype: int64\n",
      "\n",
      "Group sizes for column 'revol_bal_binned':\n",
      "revol_bal_binned\n",
      "Very Low     298236\n",
      "Low           81669\n",
      "Medium         9335\n",
      "High           2356\n",
      "Very High       566\n",
      "none           1911\n",
      "dtype: int64\n",
      "\n"
     ]
    }
   ],
   "source": [
    "columns = clean_data.select_dtypes(exclude='number').columns.tolist()\n",
    "for col in columns:\n",
    "    size = clean_data.groupby(col).size()\n",
    "    print(f\"Group sizes for column '{col}':\\n{size}\\n\")"
   ]
  },
  {
   "cell_type": "code",
   "execution_count": 16,
   "id": "ec8e38ea-07d9-419e-8a4c-bc214898b56c",
   "metadata": {
    "tags": []
   },
   "outputs": [],
   "source": [
    "features_encode = columns"
   ]
  },
  {
   "cell_type": "code",
   "execution_count": 17,
   "id": "05e495c0-c50b-4344-ba74-30c580acf496",
   "metadata": {},
   "outputs": [],
   "source": [
    "encoder = OneHotEncoder(drop='first', sparse=False)\n",
    "encoded_features = encoder.fit_transform(clean_data[features_encode])\n",
    "encoded_data = pd.DataFrame(encoded_features, columns=encoder.get_feature_names_out(features_encode))"
   ]
  },
  {
   "cell_type": "code",
   "execution_count": 18,
   "id": "cfa711f9-d875-4c80-b599-5d04adda571c",
   "metadata": {},
   "outputs": [],
   "source": [
    "clean_data = clean_data.drop(features_encode, axis=1)"
   ]
  },
  {
   "cell_type": "code",
   "execution_count": 19,
   "id": "080dcf76-6744-4c86-be49-81e0d7bd2418",
   "metadata": {},
   "outputs": [],
   "source": [
    "clean_data.reset_index(drop=True, inplace=True)\n",
    "encoded_data.reset_index(drop=True, inplace=True)"
   ]
  },
  {
   "cell_type": "code",
   "execution_count": 20,
   "id": "838ba05b-6db9-43bd-80c6-e56fc7369171",
   "metadata": {},
   "outputs": [],
   "source": [
    "clean_data = pd.concat([clean_data, encoded_data], axis=1)"
   ]
  },
  {
   "cell_type": "code",
   "execution_count": 21,
   "id": "eed50cae-0861-4820-9524-ed7673e06b42",
   "metadata": {
    "tags": []
   },
   "outputs": [
    {
     "data": {
      "text/html": [
       "<div>\n",
       "<style scoped>\n",
       "    .dataframe tbody tr th:only-of-type {\n",
       "        vertical-align: middle;\n",
       "    }\n",
       "\n",
       "    .dataframe tbody tr th {\n",
       "        vertical-align: top;\n",
       "    }\n",
       "\n",
       "    .dataframe thead th {\n",
       "        text-align: right;\n",
       "    }\n",
       "</style>\n",
       "<table border=\"1\" class=\"dataframe\">\n",
       "  <thead>\n",
       "    <tr style=\"text-align: right;\">\n",
       "      <th></th>\n",
       "      <th>loan_amnt</th>\n",
       "      <th>term</th>\n",
       "      <th>int_rate</th>\n",
       "      <th>annual_inc</th>\n",
       "      <th>dti</th>\n",
       "      <th>delinq_2yrs</th>\n",
       "      <th>fico_range_low</th>\n",
       "      <th>open_acc</th>\n",
       "      <th>pub_rec</th>\n",
       "      <th>revol_bal</th>\n",
       "      <th>revol_util</th>\n",
       "      <th>total_acc</th>\n",
       "      <th>total_rev_hi_lim</th>\n",
       "      <th>avg_cur_bal</th>\n",
       "      <th>bc_open_to_buy</th>\n",
       "      <th>bc_util</th>\n",
       "      <th>mo_sin_old_il_acct</th>\n",
       "      <th>mo_sin_old_rev_tl_op</th>\n",
       "      <th>mo_sin_rcnt_rev_tl_op</th>\n",
       "      <th>mo_sin_rcnt_tl</th>\n",
       "      <th>mort_acc</th>\n",
       "      <th>mths_since_recent_bc</th>\n",
       "      <th>num_actv_bc_tl</th>\n",
       "      <th>num_actv_rev_tl</th>\n",
       "      <th>num_bc_sats</th>\n",
       "      <th>num_bc_tl</th>\n",
       "      <th>num_il_tl</th>\n",
       "      <th>num_op_rev_tl</th>\n",
       "      <th>num_rev_accts</th>\n",
       "      <th>pct_tl_nvr_dlq</th>\n",
       "      <th>percent_bc_gt_75</th>\n",
       "      <th>pub_rec_bankruptcies</th>\n",
       "      <th>tot_hi_cred_lim</th>\n",
       "      <th>total_bal_ex_mort</th>\n",
       "      <th>total_bc_limit</th>\n",
       "      <th>total_il_high_credit_limit</th>\n",
       "      <th>target</th>\n",
       "      <th>annual_inc_installment</th>\n",
       "      <th>revol_bal_annual_inc</th>\n",
       "      <th>annual_inc_dti</th>\n",
       "      <th>loan_amnt_dti</th>\n",
       "      <th>home_ownership_MORTGAGE</th>\n",
       "      <th>home_ownership_NONE</th>\n",
       "      <th>home_ownership_OTHER</th>\n",
       "      <th>home_ownership_OWN</th>\n",
       "      <th>home_ownership_RENT</th>\n",
       "      <th>verification_status_Source Verified</th>\n",
       "      <th>verification_status_Verified</th>\n",
       "      <th>purpose_credit_card</th>\n",
       "      <th>purpose_debt_consolidation</th>\n",
       "      <th>purpose_educational</th>\n",
       "      <th>purpose_home_improvement</th>\n",
       "      <th>purpose_house</th>\n",
       "      <th>purpose_major_purchase</th>\n",
       "      <th>purpose_medical</th>\n",
       "      <th>purpose_moving</th>\n",
       "      <th>purpose_other</th>\n",
       "      <th>purpose_renewable_energy</th>\n",
       "      <th>purpose_small_business</th>\n",
       "      <th>purpose_vacation</th>\n",
       "      <th>purpose_wedding</th>\n",
       "      <th>initial_list_status_w</th>\n",
       "      <th>application_type_Joint App</th>\n",
       "      <th>region_NorthEast</th>\n",
       "      <th>region_SouthEast</th>\n",
       "      <th>region_SouthWest</th>\n",
       "      <th>region_West</th>\n",
       "      <th>annual_inc_binned_Low</th>\n",
       "      <th>annual_inc_binned_Medium</th>\n",
       "      <th>annual_inc_binned_Very High</th>\n",
       "      <th>annual_inc_binned_Very Low</th>\n",
       "      <th>annual_inc_binned_none</th>\n",
       "      <th>revol_bal_binned_Low</th>\n",
       "      <th>revol_bal_binned_Medium</th>\n",
       "      <th>revol_bal_binned_Very High</th>\n",
       "      <th>revol_bal_binned_Very Low</th>\n",
       "      <th>revol_bal_binned_none</th>\n",
       "    </tr>\n",
       "  </thead>\n",
       "  <tbody>\n",
       "    <tr>\n",
       "      <th>0</th>\n",
       "      <td>12500.0</td>\n",
       "      <td>60</td>\n",
       "      <td>22.70</td>\n",
       "      <td>65000.0</td>\n",
       "      <td>9.99</td>\n",
       "      <td>0.0</td>\n",
       "      <td>665.0</td>\n",
       "      <td>18.0</td>\n",
       "      <td>0.0</td>\n",
       "      <td>14093.0</td>\n",
       "      <td>41.3</td>\n",
       "      <td>20.0</td>\n",
       "      <td>34100.0</td>\n",
       "      <td>1091.0</td>\n",
       "      <td>13885.0</td>\n",
       "      <td>47.8</td>\n",
       "      <td>122.0</td>\n",
       "      <td>83.0</td>\n",
       "      <td>4.0</td>\n",
       "      <td>4.0</td>\n",
       "      <td>0.0</td>\n",
       "      <td>4.0</td>\n",
       "      <td>7.0</td>\n",
       "      <td>10.0</td>\n",
       "      <td>11.0</td>\n",
       "      <td>11.0</td>\n",
       "      <td>0.0</td>\n",
       "      <td>17.0</td>\n",
       "      <td>18.0</td>\n",
       "      <td>95.0</td>\n",
       "      <td>36.4</td>\n",
       "      <td>0.0</td>\n",
       "      <td>38549.0</td>\n",
       "      <td>18542.0</td>\n",
       "      <td>26600.0</td>\n",
       "      <td>0.0</td>\n",
       "      <td>0</td>\n",
       "      <td>185.592325</td>\n",
       "      <td>0.216815</td>\n",
       "      <td>649350.00</td>\n",
       "      <td>124875.0</td>\n",
       "      <td>0.0</td>\n",
       "      <td>0.0</td>\n",
       "      <td>0.0</td>\n",
       "      <td>1.0</td>\n",
       "      <td>0.0</td>\n",
       "      <td>1.0</td>\n",
       "      <td>0.0</td>\n",
       "      <td>0.0</td>\n",
       "      <td>1.0</td>\n",
       "      <td>0.0</td>\n",
       "      <td>0.0</td>\n",
       "      <td>0.0</td>\n",
       "      <td>0.0</td>\n",
       "      <td>0.0</td>\n",
       "      <td>0.0</td>\n",
       "      <td>0.0</td>\n",
       "      <td>0.0</td>\n",
       "      <td>0.0</td>\n",
       "      <td>0.0</td>\n",
       "      <td>0.0</td>\n",
       "      <td>0.0</td>\n",
       "      <td>0.0</td>\n",
       "      <td>1.0</td>\n",
       "      <td>0.0</td>\n",
       "      <td>0.0</td>\n",
       "      <td>0.0</td>\n",
       "      <td>0.0</td>\n",
       "      <td>1.0</td>\n",
       "      <td>0.0</td>\n",
       "      <td>0.0</td>\n",
       "      <td>0.0</td>\n",
       "      <td>0.0</td>\n",
       "      <td>0.0</td>\n",
       "      <td>0.0</td>\n",
       "      <td>1.0</td>\n",
       "      <td>0.0</td>\n",
       "    </tr>\n",
       "    <tr>\n",
       "      <th>1</th>\n",
       "      <td>6500.0</td>\n",
       "      <td>36</td>\n",
       "      <td>12.74</td>\n",
       "      <td>37000.0</td>\n",
       "      <td>27.41</td>\n",
       "      <td>1.0</td>\n",
       "      <td>710.0</td>\n",
       "      <td>14.0</td>\n",
       "      <td>0.0</td>\n",
       "      <td>6964.0</td>\n",
       "      <td>22.1</td>\n",
       "      <td>26.0</td>\n",
       "      <td>31500.0</td>\n",
       "      <td>1943.0</td>\n",
       "      <td>22536.0</td>\n",
       "      <td>23.6</td>\n",
       "      <td>107.0</td>\n",
       "      <td>111.0</td>\n",
       "      <td>2.0</td>\n",
       "      <td>2.0</td>\n",
       "      <td>0.0</td>\n",
       "      <td>2.0</td>\n",
       "      <td>4.0</td>\n",
       "      <td>4.0</td>\n",
       "      <td>9.0</td>\n",
       "      <td>14.0</td>\n",
       "      <td>9.0</td>\n",
       "      <td>11.0</td>\n",
       "      <td>17.0</td>\n",
       "      <td>96.0</td>\n",
       "      <td>22.2</td>\n",
       "      <td>0.0</td>\n",
       "      <td>55349.0</td>\n",
       "      <td>27195.0</td>\n",
       "      <td>29500.0</td>\n",
       "      <td>23849.0</td>\n",
       "      <td>0</td>\n",
       "      <td>169.569203</td>\n",
       "      <td>0.188216</td>\n",
       "      <td>1014170.00</td>\n",
       "      <td>178165.0</td>\n",
       "      <td>0.0</td>\n",
       "      <td>0.0</td>\n",
       "      <td>0.0</td>\n",
       "      <td>0.0</td>\n",
       "      <td>1.0</td>\n",
       "      <td>0.0</td>\n",
       "      <td>0.0</td>\n",
       "      <td>0.0</td>\n",
       "      <td>1.0</td>\n",
       "      <td>0.0</td>\n",
       "      <td>0.0</td>\n",
       "      <td>0.0</td>\n",
       "      <td>0.0</td>\n",
       "      <td>0.0</td>\n",
       "      <td>0.0</td>\n",
       "      <td>0.0</td>\n",
       "      <td>0.0</td>\n",
       "      <td>0.0</td>\n",
       "      <td>0.0</td>\n",
       "      <td>0.0</td>\n",
       "      <td>0.0</td>\n",
       "      <td>0.0</td>\n",
       "      <td>0.0</td>\n",
       "      <td>1.0</td>\n",
       "      <td>0.0</td>\n",
       "      <td>0.0</td>\n",
       "      <td>1.0</td>\n",
       "      <td>0.0</td>\n",
       "      <td>0.0</td>\n",
       "      <td>0.0</td>\n",
       "      <td>0.0</td>\n",
       "      <td>0.0</td>\n",
       "      <td>0.0</td>\n",
       "      <td>0.0</td>\n",
       "      <td>1.0</td>\n",
       "      <td>0.0</td>\n",
       "    </tr>\n",
       "    <tr>\n",
       "      <th>2</th>\n",
       "      <td>8000.0</td>\n",
       "      <td>36</td>\n",
       "      <td>6.49</td>\n",
       "      <td>96000.0</td>\n",
       "      <td>12.75</td>\n",
       "      <td>0.0</td>\n",
       "      <td>670.0</td>\n",
       "      <td>14.0</td>\n",
       "      <td>0.0</td>\n",
       "      <td>16999.0</td>\n",
       "      <td>69.4</td>\n",
       "      <td>26.0</td>\n",
       "      <td>24500.0</td>\n",
       "      <td>5970.0</td>\n",
       "      <td>6334.0</td>\n",
       "      <td>61.6</td>\n",
       "      <td>182.0</td>\n",
       "      <td>159.0</td>\n",
       "      <td>2.0</td>\n",
       "      <td>2.0</td>\n",
       "      <td>0.0</td>\n",
       "      <td>3.0</td>\n",
       "      <td>6.0</td>\n",
       "      <td>10.0</td>\n",
       "      <td>6.0</td>\n",
       "      <td>10.0</td>\n",
       "      <td>6.0</td>\n",
       "      <td>12.0</td>\n",
       "      <td>20.0</td>\n",
       "      <td>100.0</td>\n",
       "      <td>66.7</td>\n",
       "      <td>0.0</td>\n",
       "      <td>86749.0</td>\n",
       "      <td>83583.0</td>\n",
       "      <td>16500.0</td>\n",
       "      <td>62249.0</td>\n",
       "      <td>0</td>\n",
       "      <td>391.581008</td>\n",
       "      <td>0.177073</td>\n",
       "      <td>1224000.00</td>\n",
       "      <td>102000.0</td>\n",
       "      <td>0.0</td>\n",
       "      <td>0.0</td>\n",
       "      <td>0.0</td>\n",
       "      <td>0.0</td>\n",
       "      <td>1.0</td>\n",
       "      <td>0.0</td>\n",
       "      <td>0.0</td>\n",
       "      <td>1.0</td>\n",
       "      <td>0.0</td>\n",
       "      <td>0.0</td>\n",
       "      <td>0.0</td>\n",
       "      <td>0.0</td>\n",
       "      <td>0.0</td>\n",
       "      <td>0.0</td>\n",
       "      <td>0.0</td>\n",
       "      <td>0.0</td>\n",
       "      <td>0.0</td>\n",
       "      <td>0.0</td>\n",
       "      <td>0.0</td>\n",
       "      <td>0.0</td>\n",
       "      <td>1.0</td>\n",
       "      <td>0.0</td>\n",
       "      <td>1.0</td>\n",
       "      <td>0.0</td>\n",
       "      <td>0.0</td>\n",
       "      <td>0.0</td>\n",
       "      <td>0.0</td>\n",
       "      <td>1.0</td>\n",
       "      <td>0.0</td>\n",
       "      <td>0.0</td>\n",
       "      <td>0.0</td>\n",
       "      <td>0.0</td>\n",
       "      <td>0.0</td>\n",
       "      <td>0.0</td>\n",
       "      <td>1.0</td>\n",
       "      <td>0.0</td>\n",
       "    </tr>\n",
       "    <tr>\n",
       "      <th>3</th>\n",
       "      <td>16950.0</td>\n",
       "      <td>36</td>\n",
       "      <td>9.17</td>\n",
       "      <td>53854.0</td>\n",
       "      <td>13.19</td>\n",
       "      <td>0.0</td>\n",
       "      <td>675.0</td>\n",
       "      <td>9.0</td>\n",
       "      <td>0.0</td>\n",
       "      <td>10803.0</td>\n",
       "      <td>61.7</td>\n",
       "      <td>14.0</td>\n",
       "      <td>17500.0</td>\n",
       "      <td>1876.0</td>\n",
       "      <td>2291.0</td>\n",
       "      <td>81.4</td>\n",
       "      <td>124.0</td>\n",
       "      <td>172.0</td>\n",
       "      <td>8.0</td>\n",
       "      <td>8.0</td>\n",
       "      <td>0.0</td>\n",
       "      <td>9.0</td>\n",
       "      <td>5.0</td>\n",
       "      <td>6.0</td>\n",
       "      <td>5.0</td>\n",
       "      <td>7.0</td>\n",
       "      <td>4.0</td>\n",
       "      <td>8.0</td>\n",
       "      <td>10.0</td>\n",
       "      <td>100.0</td>\n",
       "      <td>60.0</td>\n",
       "      <td>0.0</td>\n",
       "      <td>25800.0</td>\n",
       "      <td>16883.0</td>\n",
       "      <td>12300.0</td>\n",
       "      <td>8300.0</td>\n",
       "      <td>0</td>\n",
       "      <td>99.665032</td>\n",
       "      <td>0.200598</td>\n",
       "      <td>710334.26</td>\n",
       "      <td>223570.5</td>\n",
       "      <td>0.0</td>\n",
       "      <td>0.0</td>\n",
       "      <td>0.0</td>\n",
       "      <td>0.0</td>\n",
       "      <td>1.0</td>\n",
       "      <td>0.0</td>\n",
       "      <td>1.0</td>\n",
       "      <td>0.0</td>\n",
       "      <td>1.0</td>\n",
       "      <td>0.0</td>\n",
       "      <td>0.0</td>\n",
       "      <td>0.0</td>\n",
       "      <td>0.0</td>\n",
       "      <td>0.0</td>\n",
       "      <td>0.0</td>\n",
       "      <td>0.0</td>\n",
       "      <td>0.0</td>\n",
       "      <td>0.0</td>\n",
       "      <td>0.0</td>\n",
       "      <td>0.0</td>\n",
       "      <td>0.0</td>\n",
       "      <td>0.0</td>\n",
       "      <td>0.0</td>\n",
       "      <td>0.0</td>\n",
       "      <td>0.0</td>\n",
       "      <td>0.0</td>\n",
       "      <td>0.0</td>\n",
       "      <td>1.0</td>\n",
       "      <td>0.0</td>\n",
       "      <td>0.0</td>\n",
       "      <td>0.0</td>\n",
       "      <td>0.0</td>\n",
       "      <td>0.0</td>\n",
       "      <td>0.0</td>\n",
       "      <td>1.0</td>\n",
       "      <td>0.0</td>\n",
       "    </tr>\n",
       "    <tr>\n",
       "      <th>4</th>\n",
       "      <td>5500.0</td>\n",
       "      <td>36</td>\n",
       "      <td>12.69</td>\n",
       "      <td>40000.0</td>\n",
       "      <td>30.39</td>\n",
       "      <td>0.0</td>\n",
       "      <td>715.0</td>\n",
       "      <td>17.0</td>\n",
       "      <td>0.0</td>\n",
       "      <td>4094.0</td>\n",
       "      <td>18.0</td>\n",
       "      <td>41.0</td>\n",
       "      <td>22800.0</td>\n",
       "      <td>8096.0</td>\n",
       "      <td>11703.0</td>\n",
       "      <td>12.0</td>\n",
       "      <td>154.0</td>\n",
       "      <td>150.0</td>\n",
       "      <td>5.0</td>\n",
       "      <td>5.0</td>\n",
       "      <td>1.0</td>\n",
       "      <td>5.0</td>\n",
       "      <td>2.0</td>\n",
       "      <td>3.0</td>\n",
       "      <td>5.0</td>\n",
       "      <td>15.0</td>\n",
       "      <td>7.0</td>\n",
       "      <td>14.0</td>\n",
       "      <td>33.0</td>\n",
       "      <td>97.6</td>\n",
       "      <td>0.0</td>\n",
       "      <td>0.0</td>\n",
       "      <td>166125.0</td>\n",
       "      <td>44226.0</td>\n",
       "      <td>13300.0</td>\n",
       "      <td>50046.0</td>\n",
       "      <td>0</td>\n",
       "      <td>216.802168</td>\n",
       "      <td>0.102350</td>\n",
       "      <td>1215600.00</td>\n",
       "      <td>167145.0</td>\n",
       "      <td>1.0</td>\n",
       "      <td>0.0</td>\n",
       "      <td>0.0</td>\n",
       "      <td>0.0</td>\n",
       "      <td>0.0</td>\n",
       "      <td>0.0</td>\n",
       "      <td>0.0</td>\n",
       "      <td>0.0</td>\n",
       "      <td>1.0</td>\n",
       "      <td>0.0</td>\n",
       "      <td>0.0</td>\n",
       "      <td>0.0</td>\n",
       "      <td>0.0</td>\n",
       "      <td>0.0</td>\n",
       "      <td>0.0</td>\n",
       "      <td>0.0</td>\n",
       "      <td>0.0</td>\n",
       "      <td>0.0</td>\n",
       "      <td>0.0</td>\n",
       "      <td>0.0</td>\n",
       "      <td>0.0</td>\n",
       "      <td>0.0</td>\n",
       "      <td>1.0</td>\n",
       "      <td>0.0</td>\n",
       "      <td>0.0</td>\n",
       "      <td>0.0</td>\n",
       "      <td>1.0</td>\n",
       "      <td>0.0</td>\n",
       "      <td>0.0</td>\n",
       "      <td>0.0</td>\n",
       "      <td>0.0</td>\n",
       "      <td>0.0</td>\n",
       "      <td>0.0</td>\n",
       "      <td>0.0</td>\n",
       "      <td>1.0</td>\n",
       "      <td>0.0</td>\n",
       "    </tr>\n",
       "  </tbody>\n",
       "</table>\n",
       "</div>"
      ],
      "text/plain": [
       "   loan_amnt  term  int_rate  annual_inc    dti  delinq_2yrs  fico_range_low  open_acc  pub_rec  revol_bal  revol_util  total_acc  total_rev_hi_lim  avg_cur_bal  bc_open_to_buy  bc_util  mo_sin_old_il_acct  mo_sin_old_rev_tl_op  mo_sin_rcnt_rev_tl_op  mo_sin_rcnt_tl  mort_acc  mths_since_recent_bc  num_actv_bc_tl  num_actv_rev_tl  num_bc_sats  num_bc_tl  num_il_tl  num_op_rev_tl  num_rev_accts  pct_tl_nvr_dlq  percent_bc_gt_75  pub_rec_bankruptcies  tot_hi_cred_lim  total_bal_ex_mort  \\\n",
       "0    12500.0    60     22.70     65000.0   9.99          0.0           665.0      18.0      0.0    14093.0        41.3       20.0           34100.0       1091.0         13885.0     47.8               122.0                  83.0                    4.0             4.0       0.0                   4.0             7.0             10.0         11.0       11.0        0.0           17.0           18.0            95.0              36.4                   0.0          38549.0            18542.0   \n",
       "1     6500.0    36     12.74     37000.0  27.41          1.0           710.0      14.0      0.0     6964.0        22.1       26.0           31500.0       1943.0         22536.0     23.6               107.0                 111.0                    2.0             2.0       0.0                   2.0             4.0              4.0          9.0       14.0        9.0           11.0           17.0            96.0              22.2                   0.0          55349.0            27195.0   \n",
       "2     8000.0    36      6.49     96000.0  12.75          0.0           670.0      14.0      0.0    16999.0        69.4       26.0           24500.0       5970.0          6334.0     61.6               182.0                 159.0                    2.0             2.0       0.0                   3.0             6.0             10.0          6.0       10.0        6.0           12.0           20.0           100.0              66.7                   0.0          86749.0            83583.0   \n",
       "3    16950.0    36      9.17     53854.0  13.19          0.0           675.0       9.0      0.0    10803.0        61.7       14.0           17500.0       1876.0          2291.0     81.4               124.0                 172.0                    8.0             8.0       0.0                   9.0             5.0              6.0          5.0        7.0        4.0            8.0           10.0           100.0              60.0                   0.0          25800.0            16883.0   \n",
       "4     5500.0    36     12.69     40000.0  30.39          0.0           715.0      17.0      0.0     4094.0        18.0       41.0           22800.0       8096.0         11703.0     12.0               154.0                 150.0                    5.0             5.0       1.0                   5.0             2.0              3.0          5.0       15.0        7.0           14.0           33.0            97.6               0.0                   0.0         166125.0            44226.0   \n",
       "\n",
       "   total_bc_limit  total_il_high_credit_limit  target  annual_inc_installment  revol_bal_annual_inc  annual_inc_dti  loan_amnt_dti  home_ownership_MORTGAGE  home_ownership_NONE  home_ownership_OTHER  home_ownership_OWN  home_ownership_RENT  verification_status_Source Verified  verification_status_Verified  purpose_credit_card  purpose_debt_consolidation  purpose_educational  purpose_home_improvement  purpose_house  purpose_major_purchase  purpose_medical  purpose_moving  purpose_other  \\\n",
       "0         26600.0                         0.0       0              185.592325              0.216815       649350.00       124875.0                      0.0                  0.0                   0.0                 1.0                  0.0                                  1.0                           0.0                  0.0                         1.0                  0.0                       0.0            0.0                     0.0              0.0             0.0            0.0   \n",
       "1         29500.0                     23849.0       0              169.569203              0.188216      1014170.00       178165.0                      0.0                  0.0                   0.0                 0.0                  1.0                                  0.0                           0.0                  0.0                         1.0                  0.0                       0.0            0.0                     0.0              0.0             0.0            0.0   \n",
       "2         16500.0                     62249.0       0              391.581008              0.177073      1224000.00       102000.0                      0.0                  0.0                   0.0                 0.0                  1.0                                  0.0                           0.0                  1.0                         0.0                  0.0                       0.0            0.0                     0.0              0.0             0.0            0.0   \n",
       "3         12300.0                      8300.0       0               99.665032              0.200598       710334.26       223570.5                      0.0                  0.0                   0.0                 0.0                  1.0                                  0.0                           1.0                  0.0                         1.0                  0.0                       0.0            0.0                     0.0              0.0             0.0            0.0   \n",
       "4         13300.0                     50046.0       0              216.802168              0.102350      1215600.00       167145.0                      1.0                  0.0                   0.0                 0.0                  0.0                                  0.0                           0.0                  0.0                         1.0                  0.0                       0.0            0.0                     0.0              0.0             0.0            0.0   \n",
       "\n",
       "   purpose_renewable_energy  purpose_small_business  purpose_vacation  purpose_wedding  initial_list_status_w  application_type_Joint App  region_NorthEast  region_SouthEast  region_SouthWest  region_West  annual_inc_binned_Low  annual_inc_binned_Medium  annual_inc_binned_Very High  annual_inc_binned_Very Low  annual_inc_binned_none  revol_bal_binned_Low  revol_bal_binned_Medium  revol_bal_binned_Very High  revol_bal_binned_Very Low  revol_bal_binned_none  \n",
       "0                       0.0                     0.0               0.0              0.0                    0.0                         0.0               1.0               0.0               0.0          0.0                    0.0                       1.0                          0.0                         0.0                     0.0                   0.0                      0.0                         0.0                        1.0                    0.0  \n",
       "1                       0.0                     0.0               0.0              0.0                    0.0                         0.0               0.0               1.0               0.0          0.0                    1.0                       0.0                          0.0                         0.0                     0.0                   0.0                      0.0                         0.0                        1.0                    0.0  \n",
       "2                       0.0                     0.0               0.0              0.0                    1.0                         0.0               1.0               0.0               0.0          0.0                    0.0                       1.0                          0.0                         0.0                     0.0                   0.0                      0.0                         0.0                        1.0                    0.0  \n",
       "3                       0.0                     0.0               0.0              0.0                    0.0                         0.0               0.0               0.0               0.0          0.0                    0.0                       1.0                          0.0                         0.0                     0.0                   0.0                      0.0                         0.0                        1.0                    0.0  \n",
       "4                       0.0                     0.0               0.0              0.0                    0.0                         0.0               1.0               0.0               0.0          0.0                    1.0                       0.0                          0.0                         0.0                     0.0                   0.0                      0.0                         0.0                        1.0                    0.0  "
      ]
     },
     "execution_count": 21,
     "metadata": {},
     "output_type": "execute_result"
    }
   ],
   "source": [
    "clean_data.head()"
   ]
  },
  {
   "cell_type": "code",
   "execution_count": 22,
   "id": "7001b8c1-4329-4d38-bd34-356b03e1e449",
   "metadata": {},
   "outputs": [
    {
     "data": {
      "text/plain": [
       "(394073, 77)"
      ]
     },
     "execution_count": 22,
     "metadata": {},
     "output_type": "execute_result"
    }
   ],
   "source": [
    "clean_data.shape"
   ]
  },
  {
   "cell_type": "code",
   "execution_count": 23,
   "id": "9bf12994-495a-4365-add4-8236f6aa5d0a",
   "metadata": {},
   "outputs": [],
   "source": [
    "skewness = numeric_data.skew()\n",
    "kurtosis = numeric_data.kurtosis()\n",
    "\n",
    "skew_kurtosis = pd.DataFrame({'Skewness': skewness, 'Kurtosis': kurtosis})"
   ]
  },
  {
   "cell_type": "code",
   "execution_count": 24,
   "id": "b4bf7b74-22fd-4cfe-916a-45c23dd918f4",
   "metadata": {},
   "outputs": [],
   "source": [
    "# skewness > 1 or Skewness < -1: high positive or negative skewness\n",
    "# kurtosis > 3: features with high kurtosis, indicating heavy tails or outliers\n",
    "outliers = skew_kurtosis[(skew_kurtosis['Skewness'] > 1) | (skew_kurtosis['Skewness']  < -1) | (skew_kurtosis['Kurtosis']  > 3)]\n",
    "skewed_features = list(outliers.index)"
   ]
  },
  {
   "cell_type": "markdown",
   "id": "7f38cb76-e600-43d5-ba97-a8b3f7afe930",
   "metadata": {},
   "source": [
    "## **Testing Different Methods to Handle Outliers and Normalise the **"
   ]
  },
  {
   "cell_type": "code",
   "execution_count": 25,
   "id": "62dd85f0-ccf3-41fd-bc90-2b84166dd3e6",
   "metadata": {},
   "outputs": [],
   "source": [
    "# separat numerical and encoded categorical data, so as to only handle outliers in num\n",
    "def separate_features(data, features_encode):\n",
    "    X_encoded = data[encoded_data.columns]\n",
    "    X_numerical = data.drop(columns=encoded_data.columns)\n",
    "    return X_numerical, X_encoded"
   ]
  },
  {
   "cell_type": "code",
   "execution_count": 26,
   "id": "51331895-8788-4da6-8167-2321bbc8d561",
   "metadata": {},
   "outputs": [],
   "source": [
    "# test different methods to handle outliers\n",
    "# capping/flooring approach\n",
    "# https://lexjansen.com/nesug/nesug07/sa/sa16.pdf\n",
    "# identify the values at the 1st and 99th percentiles\n",
    "\n",
    "def handle_outliers(X_train, y_train, method):\n",
    "    if method == 'z_score':\n",
    "        z_scores = np.abs(zscore(X_train))\n",
    "        X_train_out = X_train[(z_scores < 3).all(axis=1)]\n",
    "    \n",
    "    elif method == 'iqr':\n",
    "        Q1 = X_train.quantile(0.25)\n",
    "        Q3 = X_train.quantile(0.75)\n",
    "        IQR = Q3 - Q1\n",
    "        X_train_out = X_train[~((X_train < (Q1 - 1.5 * IQR)) | (X_train > (Q3 + 1.5 * IQR))).any(axis=1)]\n",
    "    \n",
    "    elif method == 'winsorize':\n",
    "        # due to errors converting it to array, which worked\n",
    "        winsorized_ar = mstats.winsorize(X_train.values, limits=[0.05, 0.05])\n",
    "        X_train_out = pd.DataFrame(winsorized_ar, columns=X_train.columns, index=X_train.index)\n",
    "    \n",
    "    elif method == 'clip':\n",
    "        X_train_out = X_train.clip(lower=X_train.quantile(0.05), upper=X_train.quantile(0.95), axis=1)\n",
    "        \n",
    "    # had error, so added the target to match X and have consistent data\n",
    "    y_train_out = y_train.loc[X_train_out.index]\n",
    "    \n",
    "    return X_train_out, y_train_out"
   ]
  },
  {
   "cell_type": "code",
   "execution_count": 27,
   "id": "fe854bbd-cea9-45dc-9190-696cd63f2f2d",
   "metadata": {},
   "outputs": [],
   "source": [
    "# test different normalization method\n",
    "def normalize_data(data, test=None, method='standard'):\n",
    "    if method == 'minmax':\n",
    "        scaler = MinMaxScaler()\n",
    "    elif method == 'standard':\n",
    "        scaler = StandardScaler()\n",
    "    elif method == 'robust':\n",
    "        scaler = RobustScaler()\n",
    "    \n",
    "    if test is None:\n",
    "        data_scaled = scaler.fit_transform(data)\n",
    "        return pd.DataFrame(data_scaled, columns=data.columns, index=data.index)\n",
    "        \n",
    "    else:\n",
    "        X_train_scaled = scaler.fit_transform(data)\n",
    "        X_test_scaled = scaler.transform(test)\n",
    "        return pd.DataFrame(X_train_scaled, columns=data.columns, index=data.index), \\\n",
    "               pd.DataFrame(X_test_scaled, columns=test.columns, index=test.index)"
   ]
  },
  {
   "cell_type": "code",
   "execution_count": 28,
   "id": "4a8fa9b0-ae03-4704-b03b-123da3f84432",
   "metadata": {},
   "outputs": [],
   "source": [
    "X = clean_data.drop(columns=['target'])\n",
    "y = clean_data['target']"
   ]
  },
  {
   "cell_type": "code",
   "execution_count": 29,
   "id": "d3ebcf7e-0932-4cd8-ae3c-3b38b1d1a2f3",
   "metadata": {},
   "outputs": [],
   "source": [
    "# test different outlier handling and normalisation techniques\n",
    "outlier_methods = ['z_score', 'iqr', 'winsorize', 'clip']\n",
    "normalisation_methods = ['minmax', 'standard', 'robust']\n",
    "results = []"
   ]
  },
  {
   "cell_type": "code",
   "execution_count": 30,
   "id": "c3d98a78-5137-4bc8-8399-b086bc876359",
   "metadata": {},
   "outputs": [],
   "source": [
    "for outlier_method in outlier_methods:\n",
    "    for norm_method in normalisation_methods:\n",
    "        # separate numerical and cat features so as to only handle num outliers\n",
    "        X_numerical, X_encoded = separate_features(X, encoded_data.columns)\n",
    "        X_train_out, y_train_out = handle_outliers(X_numerical, y, outlier_method)\n",
    "        \n",
    "        # match the num and cat back, so as to have consistent rows\n",
    "        X_encoded_filtered = X_encoded.loc[X_train_out.index]\n",
    "        X_train_out = pd.concat([X_train_out, X_encoded_filtered], axis=1)\n",
    "        \n",
    "        X_train, X_test, y_train, y_test = train_test_split(X_train_out, y_train_out, test_size=0.2, random_state=42)\n",
    "        X_train_final, X_test_final = normalize_data(X_train, X_test, norm_method)\n",
    "\n",
    "        # similar result for normalisation for XGBoost, so tested another\n",
    "        model = RandomForestClassifier(random_state=42)\n",
    "        model.fit(X_train_final, y_train)\n",
    "        y_pred_proba = model.predict_proba(X_test_final)[:, 1]\n",
    "        y_pred = model.predict(X_test_final)\n",
    "        \n",
    "        accuracy = accuracy_score(y_test, y_pred)\n",
    "        recall = recall_score(y_test, y_pred)\n",
    "        precision = precision_score(y_test, y_pred)\n",
    "        auc = roc_auc_score(y_test, y_pred_proba)\n",
    "        \n",
    "        results.append({\n",
    "            'Outlier Technique': outlier_method,\n",
    "            'Normalisation Technique': norm_method,\n",
    "            'Accuracy': accuracy,\n",
    "            'Recall': recall,\n",
    "            'Precision': precision,\n",
    "            'AUC': auc\n",
    "        })"
   ]
  },
  {
   "cell_type": "code",
   "execution_count": 31,
   "id": "675898a9-3aee-4045-9061-006da24d0e3d",
   "metadata": {},
   "outputs": [
    {
     "data": {
      "text/html": [
       "<div>\n",
       "<style scoped>\n",
       "    .dataframe tbody tr th:only-of-type {\n",
       "        vertical-align: middle;\n",
       "    }\n",
       "\n",
       "    .dataframe tbody tr th {\n",
       "        vertical-align: top;\n",
       "    }\n",
       "\n",
       "    .dataframe thead th {\n",
       "        text-align: right;\n",
       "    }\n",
       "</style>\n",
       "<table border=\"1\" class=\"dataframe\">\n",
       "  <thead>\n",
       "    <tr style=\"text-align: right;\">\n",
       "      <th></th>\n",
       "      <th>Outlier Technique</th>\n",
       "      <th>Normalisation Technique</th>\n",
       "      <th>Accuracy</th>\n",
       "      <th>Recall</th>\n",
       "      <th>Precision</th>\n",
       "      <th>AUC</th>\n",
       "    </tr>\n",
       "  </thead>\n",
       "  <tbody>\n",
       "    <tr>\n",
       "      <th>0</th>\n",
       "      <td>z_score</td>\n",
       "      <td>minmax</td>\n",
       "      <td>0.796143</td>\n",
       "      <td>0.044450</td>\n",
       "      <td>0.544397</td>\n",
       "      <td>0.696918</td>\n",
       "    </tr>\n",
       "    <tr>\n",
       "      <th>1</th>\n",
       "      <td>z_score</td>\n",
       "      <td>standard</td>\n",
       "      <td>0.796321</td>\n",
       "      <td>0.044882</td>\n",
       "      <td>0.549683</td>\n",
       "      <td>0.697092</td>\n",
       "    </tr>\n",
       "    <tr>\n",
       "      <th>2</th>\n",
       "      <td>z_score</td>\n",
       "      <td>robust</td>\n",
       "      <td>0.796321</td>\n",
       "      <td>0.044882</td>\n",
       "      <td>0.549683</td>\n",
       "      <td>0.697195</td>\n",
       "    </tr>\n",
       "    <tr>\n",
       "      <th>3</th>\n",
       "      <td>iqr</td>\n",
       "      <td>minmax</td>\n",
       "      <td>0.827527</td>\n",
       "      <td>0.003455</td>\n",
       "      <td>0.588235</td>\n",
       "      <td>0.640731</td>\n",
       "    </tr>\n",
       "    <tr>\n",
       "      <th>4</th>\n",
       "      <td>iqr</td>\n",
       "      <td>standard</td>\n",
       "      <td>0.827407</td>\n",
       "      <td>0.003455</td>\n",
       "      <td>0.526316</td>\n",
       "      <td>0.641094</td>\n",
       "    </tr>\n",
       "    <tr>\n",
       "      <th>5</th>\n",
       "      <td>iqr</td>\n",
       "      <td>robust</td>\n",
       "      <td>0.827407</td>\n",
       "      <td>0.003110</td>\n",
       "      <td>0.529412</td>\n",
       "      <td>0.641037</td>\n",
       "    </tr>\n",
       "    <tr>\n",
       "      <th>6</th>\n",
       "      <td>winsorize</td>\n",
       "      <td>minmax</td>\n",
       "      <td>0.803984</td>\n",
       "      <td>0.056711</td>\n",
       "      <td>0.554443</td>\n",
       "      <td>0.703207</td>\n",
       "    </tr>\n",
       "    <tr>\n",
       "      <th>7</th>\n",
       "      <td>winsorize</td>\n",
       "      <td>standard</td>\n",
       "      <td>0.804352</td>\n",
       "      <td>0.058439</td>\n",
       "      <td>0.562539</td>\n",
       "      <td>0.703819</td>\n",
       "    </tr>\n",
       "    <tr>\n",
       "      <th>8</th>\n",
       "      <td>winsorize</td>\n",
       "      <td>robust</td>\n",
       "      <td>0.804479</td>\n",
       "      <td>0.058183</td>\n",
       "      <td>0.566355</td>\n",
       "      <td>0.703872</td>\n",
       "    </tr>\n",
       "    <tr>\n",
       "      <th>9</th>\n",
       "      <td>clip</td>\n",
       "      <td>minmax</td>\n",
       "      <td>0.803641</td>\n",
       "      <td>0.054407</td>\n",
       "      <td>0.547328</td>\n",
       "      <td>0.704752</td>\n",
       "    </tr>\n",
       "    <tr>\n",
       "      <th>10</th>\n",
       "      <td>clip</td>\n",
       "      <td>standard</td>\n",
       "      <td>0.804035</td>\n",
       "      <td>0.055559</td>\n",
       "      <td>0.557125</td>\n",
       "      <td>0.704881</td>\n",
       "    </tr>\n",
       "    <tr>\n",
       "      <th>11</th>\n",
       "      <td>clip</td>\n",
       "      <td>robust</td>\n",
       "      <td>0.803819</td>\n",
       "      <td>0.055047</td>\n",
       "      <td>0.551636</td>\n",
       "      <td>0.704967</td>\n",
       "    </tr>\n",
       "  </tbody>\n",
       "</table>\n",
       "</div>"
      ],
      "text/plain": [
       "   Outlier Technique Normalisation Technique  Accuracy    Recall  Precision       AUC\n",
       "0            z_score                  minmax  0.796143  0.044450   0.544397  0.696918\n",
       "1            z_score                standard  0.796321  0.044882   0.549683  0.697092\n",
       "2            z_score                  robust  0.796321  0.044882   0.549683  0.697195\n",
       "3                iqr                  minmax  0.827527  0.003455   0.588235  0.640731\n",
       "4                iqr                standard  0.827407  0.003455   0.526316  0.641094\n",
       "5                iqr                  robust  0.827407  0.003110   0.529412  0.641037\n",
       "6          winsorize                  minmax  0.803984  0.056711   0.554443  0.703207\n",
       "7          winsorize                standard  0.804352  0.058439   0.562539  0.703819\n",
       "8          winsorize                  robust  0.804479  0.058183   0.566355  0.703872\n",
       "9               clip                  minmax  0.803641  0.054407   0.547328  0.704752\n",
       "10              clip                standard  0.804035  0.055559   0.557125  0.704881\n",
       "11              clip                  robust  0.803819  0.055047   0.551636  0.704967"
      ]
     },
     "execution_count": 31,
     "metadata": {},
     "output_type": "execute_result"
    }
   ],
   "source": [
    "results_df = pd.DataFrame(results)\n",
    "results_df"
   ]
  },
  {
   "cell_type": "markdown",
   "id": "9a8599a0-9a89-43d8-9c15-1be9a3a49ff6",
   "metadata": {},
   "source": [
    "### **Best Technique**"
   ]
  },
  {
   "cell_type": "code",
   "execution_count": 32,
   "id": "9b0eeed9-92e2-4c96-a775-125d474ca904",
   "metadata": {},
   "outputs": [
    {
     "name": "stdout",
     "output_type": "stream",
     "text": [
      "Max Accuracy:  0.8275265481446128\n",
      "Max Precision:  0.5882352941176471\n",
      "Max Recall:  0.058439480253472446\n",
      "Max AUC:  0.704966509671967\n"
     ]
    }
   ],
   "source": [
    "print('Max Accuracy: ', results_df['Accuracy'].max()) # clip, robust\n",
    "print('Max Precision: ', results_df['Precision'].max())\n",
    "print('Max Recall: ', results_df['Recall'].max())\n",
    "print('Max AUC: ', results_df['AUC'].max())"
   ]
  },
  {
   "cell_type": "code",
   "execution_count": 33,
   "id": "23f81dcd-eefb-47c9-a091-cf97efc972a4",
   "metadata": {},
   "outputs": [
    {
     "name": "stdout",
     "output_type": "stream",
     "text": [
      "Index of maximum recall: 7\n",
      "Row with maximum recall:\n",
      "Outlier Technique          winsorize\n",
      "Normalisation Technique     standard\n",
      "Accuracy                    0.804352\n",
      "Recall                      0.058439\n",
      "Precision                   0.562539\n",
      "AUC                         0.703819\n",
      "Name: 7, dtype: object\n"
     ]
    }
   ],
   "source": [
    "max_recall = results_df['Recall'].idxmax()\n",
    "max_recall_row = results_df.loc[max_recall]\n",
    "print(f\"Index of maximum recall: {max_recall}\")\n",
    "print(f\"Row with maximum recall:\\n{max_recall_row}\")"
   ]
  },
  {
   "cell_type": "markdown",
   "id": "f9c01008-96d7-48c5-8b92-221a7c3f7158",
   "metadata": {},
   "source": [
    "## **Apply the Best Method**"
   ]
  },
  {
   "cell_type": "code",
   "execution_count": 35,
   "id": "7a66c6d3-f122-44a9-a2a0-c601f0fcf88e",
   "metadata": {},
   "outputs": [],
   "source": [
    "# handle outliers\n",
    "X_numerical, X_encoded = separate_features(X, encoded_data.columns)\n",
    "X_numerical, y = handle_outliers(X_numerical, y, method='winsorize')\n",
    "X_encoded = X_encoded.loc[X_numerical.index]\n",
    "X_final = pd.concat([X_numerical, X_encoded], axis=1)"
   ]
  },
  {
   "cell_type": "code",
   "execution_count": 36,
   "id": "454b46a1-aeab-43cf-a900-5d4b94ea01aa",
   "metadata": {
    "tags": []
   },
   "outputs": [],
   "source": [
    "# normalise data\n",
    "X_scaled = normalize_data(X_final, method='robust')"
   ]
  },
  {
   "cell_type": "code",
   "execution_count": 37,
   "id": "700943b8-bda7-4221-874a-39b25da6c268",
   "metadata": {},
   "outputs": [],
   "source": [
    "X_scaled['target'] = y"
   ]
  },
  {
   "cell_type": "markdown",
   "id": "90b60508-7d85-4a50-93b5-3a90ca45f2e6",
   "metadata": {},
   "source": [
    "### Correlation"
   ]
  },
  {
   "cell_type": "code",
   "execution_count": 38,
   "id": "65c1695d-f0f9-478a-8355-1838440b5849",
   "metadata": {
    "scrolled": true
   },
   "outputs": [
    {
     "data": {
      "text/plain": [
       "target                                 1.000000\n",
       "int_rate                               0.255736\n",
       "term                                   0.177567\n",
       "dti                                    0.107189\n",
       "loan_amnt_dti                          0.092038\n",
       "percent_bc_gt_75                       0.071067\n",
       "num_actv_rev_tl                        0.070445\n",
       "bc_util                                0.069784\n",
       "loan_amnt                              0.069034\n",
       "verification_status_Verified           0.065640\n",
       "home_ownership_RENT                    0.065591\n",
       "revol_util                             0.062223\n",
       "annual_inc_binned_Low                  0.046600\n",
       "num_actv_bc_tl                         0.042529\n",
       "purpose_debt_consolidation             0.036677\n",
       "num_op_rev_tl                          0.034144\n",
       "open_acc                               0.027435\n",
       "pub_rec                                0.025559\n",
       "purpose_small_business                 0.024243\n",
       "verification_status_Source Verified    0.023713\n",
       "pub_rec_bankruptcies                   0.023318\n",
       "delinq_2yrs                            0.019757\n",
       "num_bc_sats                            0.015413\n",
       "revol_bal_binned_Very Low              0.014905\n",
       "annual_inc_binned_Very Low             0.013065\n",
       "application_type_Joint App             0.012993\n",
       "region_SouthEast                       0.011488\n",
       "annual_inc_dti                         0.010193\n",
       "region_NorthEast                       0.009224\n",
       "initial_list_status_w                  0.008419\n",
       "purpose_other                          0.006553\n",
       "num_il_tl                              0.006054\n",
       "purpose_moving                         0.005487\n",
       "total_il_high_credit_limit             0.004522\n",
       "purpose_medical                        0.004138\n",
       "total_bal_ex_mort                      0.004107\n",
       "home_ownership_OWN                     0.002850\n",
       "purpose_house                          0.002422\n",
       "purpose_renewable_energy               0.000316\n",
       "home_ownership_OTHER                   0.000127\n",
       "revol_bal_annual_inc                  -0.000503\n",
       "annual_inc_binned_none                -0.000702\n",
       "region_SouthWest                      -0.001097\n",
       "home_ownership_NONE                   -0.001188\n",
       "purpose_vacation                      -0.001615\n",
       "purpose_educational                   -0.001833\n",
       "num_rev_accts                         -0.003855\n",
       "revol_bal_binned_none                 -0.004595\n",
       "revol_bal_binned_Very High            -0.005521\n",
       "purpose_major_purchase                -0.005910\n",
       "purpose_wedding                       -0.007660\n",
       "revol_bal_binned_Low                  -0.007775\n",
       "annual_inc_binned_Medium              -0.011311\n",
       "revol_bal_binned_Medium               -0.011878\n",
       "total_acc                             -0.012293\n",
       "num_bc_tl                             -0.014627\n",
       "pct_tl_nvr_dlq                        -0.014860\n",
       "annual_inc_binned_Very High           -0.015078\n",
       "purpose_home_improvement              -0.016370\n",
       "region_West                           -0.017760\n",
       "revol_bal                             -0.017898\n",
       "mo_sin_old_il_acct                    -0.024391\n",
       "purpose_credit_card                   -0.039502\n",
       "mo_sin_old_rev_tl_op                  -0.046596\n",
       "mo_sin_rcnt_rev_tl_op                 -0.049846\n",
       "mths_since_recent_bc                  -0.049988\n",
       "mo_sin_rcnt_tl                        -0.051532\n",
       "total_rev_hi_lim                      -0.058454\n",
       "annual_inc                            -0.060963\n",
       "home_ownership_MORTGAGE               -0.065973\n",
       "mort_acc                              -0.067875\n",
       "total_bc_limit                        -0.068405\n",
       "tot_hi_cred_lim                       -0.071207\n",
       "avg_cur_bal                           -0.072618\n",
       "bc_open_to_buy                        -0.078662\n",
       "annual_inc_installment                -0.087279\n",
       "fico_range_low                        -0.128526\n",
       "Name: target, dtype: float64"
      ]
     },
     "execution_count": 38,
     "metadata": {},
     "output_type": "execute_result"
    }
   ],
   "source": [
    "corr = X_scaled.corr()['target'].sort_values(ascending=False)\n",
    "corr"
   ]
  },
  {
   "cell_type": "code",
   "execution_count": 39,
   "id": "de5c232f-f38f-4d8e-975d-4fac425b0ad1",
   "metadata": {
    "tags": []
   },
   "outputs": [],
   "source": [
    "no_corr = corr[corr.isna()].index.tolist()"
   ]
  },
  {
   "cell_type": "code",
   "execution_count": 40,
   "id": "49cf6b3e-b943-4cec-ac7e-742c1b22873e",
   "metadata": {
    "scrolled": true,
    "tags": []
   },
   "outputs": [
    {
     "data": {
      "text/plain": [
       "[]"
      ]
     },
     "execution_count": 40,
     "metadata": {},
     "output_type": "execute_result"
    }
   ],
   "source": [
    "no_corr"
   ]
  },
  {
   "cell_type": "code",
   "execution_count": 41,
   "id": "12aa44e5-44a0-4aa7-83d0-14c4b6d4e37c",
   "metadata": {
    "tags": []
   },
   "outputs": [],
   "source": [
    "low_corr = corr[(corr.abs() < 0.01)].index.tolist()"
   ]
  },
  {
   "cell_type": "code",
   "execution_count": 42,
   "id": "e0b5935c-153e-48d8-9493-9d6fdfc351e8",
   "metadata": {
    "scrolled": true,
    "tags": []
   },
   "outputs": [
    {
     "data": {
      "text/plain": [
       "['region_NorthEast',\n",
       " 'initial_list_status_w',\n",
       " 'purpose_other',\n",
       " 'num_il_tl',\n",
       " 'purpose_moving',\n",
       " 'total_il_high_credit_limit',\n",
       " 'purpose_medical',\n",
       " 'total_bal_ex_mort',\n",
       " 'home_ownership_OWN',\n",
       " 'purpose_house',\n",
       " 'purpose_renewable_energy',\n",
       " 'home_ownership_OTHER',\n",
       " 'revol_bal_annual_inc',\n",
       " 'annual_inc_binned_none',\n",
       " 'region_SouthWest',\n",
       " 'home_ownership_NONE',\n",
       " 'purpose_vacation',\n",
       " 'purpose_educational',\n",
       " 'num_rev_accts',\n",
       " 'revol_bal_binned_none',\n",
       " 'revol_bal_binned_Very High',\n",
       " 'purpose_major_purchase',\n",
       " 'purpose_wedding',\n",
       " 'revol_bal_binned_Low']"
      ]
     },
     "execution_count": 42,
     "metadata": {},
     "output_type": "execute_result"
    }
   ],
   "source": [
    "low_corr"
   ]
  },
  {
   "cell_type": "code",
   "execution_count": 43,
   "id": "f7102d2e-4655-4518-bc83-d8a20c081519",
   "metadata": {
    "tags": []
   },
   "outputs": [],
   "source": [
    "cleaned_data = X_scaled.drop(columns=no_corr + low_corr)"
   ]
  },
  {
   "cell_type": "code",
   "execution_count": 44,
   "id": "42f4570e-998a-41ab-8ee2-8fd4fe37a3fa",
   "metadata": {
    "tags": []
   },
   "outputs": [
    {
     "data": {
      "text/plain": [
       "(394073, 53)"
      ]
     },
     "execution_count": 44,
     "metadata": {},
     "output_type": "execute_result"
    }
   ],
   "source": [
    "cleaned_data.shape"
   ]
  },
  {
   "cell_type": "markdown",
   "id": "09809d0d-1a89-4c17-a07b-721d0f59a3da",
   "metadata": {},
   "source": [
    "## **Testing Different Methods - Dimensionality and Data Split**"
   ]
  },
  {
   "cell_type": "code",
   "execution_count": 60,
   "id": "1e7fbc27-8ee4-4a8d-945d-c3b3296c01e8",
   "metadata": {
    "tags": []
   },
   "outputs": [],
   "source": [
    "# function to calculate the performance metrics used in this project\n",
    "def performance_metrics(y_true, y_pred, y_prob):\n",
    "    accuracy = accuracy_score(y_true, y_pred)\n",
    "    precision = precision_score(y_true, y_pred)\n",
    "    recall = recall_score(y_true, y_pred)\n",
    "    auc = roc_auc_score(y_true, y_prob)\n",
    "    \n",
    "    return ({'Accuracy': accuracy, \n",
    "                       'Precision': precision, \n",
    "                       'Recall': recall, 'AUC': auc})"
   ]
  },
  {
   "cell_type": "markdown",
   "id": "d0ba2d9c-a6de-4a47-998b-7868ea5f8bcc",
   "metadata": {},
   "source": [
    "## Principal Component Analysis (PCA)"
   ]
  },
  {
   "cell_type": "code",
   "execution_count": 46,
   "id": "f712eb7e-6bb8-4da2-baa4-ffbee9e84aa8",
   "metadata": {
    "tags": []
   },
   "outputs": [],
   "source": [
    "X = cleaned_data.drop(columns=['target'])\n",
    "y = cleaned_data['target']"
   ]
  },
  {
   "cell_type": "code",
   "execution_count": 47,
   "id": "ad0ee6e2-774c-439c-8931-65ef3bc9c51d",
   "metadata": {
    "tags": []
   },
   "outputs": [],
   "source": [
    "pca = PCA()\n",
    "X_pca = pca.fit_transform(X)"
   ]
  },
  {
   "cell_type": "code",
   "execution_count": 48,
   "id": "45b1e15a-a613-402a-b3b4-4b30f1f7e28b",
   "metadata": {
    "scrolled": true,
    "tags": []
   },
   "outputs": [
    {
     "name": "stdout",
     "output_type": "stream",
     "text": [
      "Component 1:\n",
      "Eigenvalue: 7874736.61895148\n",
      "Variance Explained: 100.00%\n",
      "Cumulative Variance Explained: 100.00%\n",
      "\n",
      "Component 2:\n",
      "Eigenvalue: 6448.757940334959\n",
      "Variance Explained: 0.00%\n",
      "Cumulative Variance Explained: 100.00%\n",
      "\n",
      "Component 3:\n",
      "Eigenvalue: 1586.9747470904163\n",
      "Variance Explained: 0.00%\n",
      "Cumulative Variance Explained: 100.00%\n",
      "\n",
      "Component 4:\n",
      "Eigenvalue: 1284.2180052265383\n",
      "Variance Explained: 0.00%\n",
      "Cumulative Variance Explained: 100.00%\n",
      "\n",
      "Component 5:\n",
      "Eigenvalue: 1039.2040925167464\n",
      "Variance Explained: 0.00%\n",
      "Cumulative Variance Explained: 100.00%\n",
      "\n",
      "Component 6:\n",
      "Eigenvalue: 973.9226072732368\n",
      "Variance Explained: 0.00%\n",
      "Cumulative Variance Explained: 100.00%\n",
      "\n",
      "Component 7:\n",
      "Eigenvalue: 839.7337891545044\n",
      "Variance Explained: 0.00%\n",
      "Cumulative Variance Explained: 100.00%\n",
      "\n",
      "Component 8:\n",
      "Eigenvalue: 790.3816265214206\n",
      "Variance Explained: 0.00%\n",
      "Cumulative Variance Explained: 100.00%\n",
      "\n",
      "Component 9:\n",
      "Eigenvalue: 685.7319244117044\n",
      "Variance Explained: 0.00%\n",
      "Cumulative Variance Explained: 100.00%\n",
      "\n",
      "Component 10:\n",
      "Eigenvalue: 642.229488350095\n",
      "Variance Explained: 0.00%\n",
      "Cumulative Variance Explained: 100.00%\n",
      "\n",
      "Component 11:\n",
      "Eigenvalue: 598.4363845734849\n",
      "Variance Explained: 0.00%\n",
      "Cumulative Variance Explained: 100.00%\n",
      "\n",
      "Component 12:\n",
      "Eigenvalue: 521.201369992289\n",
      "Variance Explained: 0.00%\n",
      "Cumulative Variance Explained: 100.00%\n",
      "\n",
      "Component 13:\n",
      "Eigenvalue: 508.69718054397697\n",
      "Variance Explained: 0.00%\n",
      "Cumulative Variance Explained: 100.00%\n",
      "\n",
      "Component 14:\n",
      "Eigenvalue: 491.2461852270666\n",
      "Variance Explained: 0.00%\n",
      "Cumulative Variance Explained: 100.00%\n",
      "\n",
      "Component 15:\n",
      "Eigenvalue: 474.10950128164484\n",
      "Variance Explained: 0.00%\n",
      "Cumulative Variance Explained: 100.00%\n",
      "\n",
      "Component 16:\n",
      "Eigenvalue: 442.77612566246785\n",
      "Variance Explained: 0.00%\n",
      "Cumulative Variance Explained: 100.00%\n",
      "\n",
      "Component 17:\n",
      "Eigenvalue: 432.2181421136949\n",
      "Variance Explained: 0.00%\n",
      "Cumulative Variance Explained: 100.00%\n",
      "\n",
      "Component 18:\n",
      "Eigenvalue: 422.8557490511851\n",
      "Variance Explained: 0.00%\n",
      "Cumulative Variance Explained: 100.00%\n",
      "\n",
      "Component 19:\n",
      "Eigenvalue: 404.879458490024\n",
      "Variance Explained: 0.00%\n",
      "Cumulative Variance Explained: 100.00%\n",
      "\n",
      "Component 20:\n",
      "Eigenvalue: 390.43858433488566\n",
      "Variance Explained: 0.00%\n",
      "Cumulative Variance Explained: 100.00%\n",
      "\n",
      "Component 21:\n",
      "Eigenvalue: 372.71236142943417\n",
      "Variance Explained: 0.00%\n",
      "Cumulative Variance Explained: 100.00%\n",
      "\n",
      "Component 22:\n",
      "Eigenvalue: 363.3180759923206\n",
      "Variance Explained: 0.00%\n",
      "Cumulative Variance Explained: 100.00%\n",
      "\n",
      "Component 23:\n",
      "Eigenvalue: 358.29026809642266\n",
      "Variance Explained: 0.00%\n",
      "Cumulative Variance Explained: 100.00%\n",
      "\n",
      "Component 24:\n",
      "Eigenvalue: 343.10308661041125\n",
      "Variance Explained: 0.00%\n",
      "Cumulative Variance Explained: 100.00%\n",
      "\n",
      "Component 25:\n",
      "Eigenvalue: 336.24567461030676\n",
      "Variance Explained: 0.00%\n",
      "Cumulative Variance Explained: 100.00%\n",
      "\n",
      "Component 26:\n",
      "Eigenvalue: 300.03928325746114\n",
      "Variance Explained: 0.00%\n",
      "Cumulative Variance Explained: 100.00%\n",
      "\n",
      "Component 27:\n",
      "Eigenvalue: 289.71251283990415\n",
      "Variance Explained: 0.00%\n",
      "Cumulative Variance Explained: 100.00%\n",
      "\n",
      "Component 28:\n",
      "Eigenvalue: 281.3263370804073\n",
      "Variance Explained: 0.00%\n",
      "Cumulative Variance Explained: 100.00%\n",
      "\n",
      "Component 29:\n",
      "Eigenvalue: 250.44858053837086\n",
      "Variance Explained: 0.00%\n",
      "Cumulative Variance Explained: 100.00%\n",
      "\n",
      "Component 30:\n",
      "Eigenvalue: 229.52511780020316\n",
      "Variance Explained: 0.00%\n",
      "Cumulative Variance Explained: 100.00%\n",
      "\n",
      "Component 31:\n",
      "Eigenvalue: 224.48349818194788\n",
      "Variance Explained: 0.00%\n",
      "Cumulative Variance Explained: 100.00%\n",
      "\n",
      "Component 32:\n",
      "Eigenvalue: 219.80265897345666\n",
      "Variance Explained: 0.00%\n",
      "Cumulative Variance Explained: 100.00%\n",
      "\n",
      "Component 33:\n",
      "Eigenvalue: 207.7657794633661\n",
      "Variance Explained: 0.00%\n",
      "Cumulative Variance Explained: 100.00%\n",
      "\n",
      "Component 34:\n",
      "Eigenvalue: 196.92181938169804\n",
      "Variance Explained: 0.00%\n",
      "Cumulative Variance Explained: 100.00%\n",
      "\n",
      "Component 35:\n",
      "Eigenvalue: 192.39318813227635\n",
      "Variance Explained: 0.00%\n",
      "Cumulative Variance Explained: 100.00%\n",
      "\n",
      "Component 36:\n",
      "Eigenvalue: 184.19472810380108\n",
      "Variance Explained: 0.00%\n",
      "Cumulative Variance Explained: 100.00%\n",
      "\n",
      "Component 37:\n",
      "Eigenvalue: 183.70220564529853\n",
      "Variance Explained: 0.00%\n",
      "Cumulative Variance Explained: 100.00%\n",
      "\n",
      "Component 38:\n",
      "Eigenvalue: 168.94065780847075\n",
      "Variance Explained: 0.00%\n",
      "Cumulative Variance Explained: 100.00%\n",
      "\n",
      "Component 39:\n",
      "Eigenvalue: 163.0692374598873\n",
      "Variance Explained: 0.00%\n",
      "Cumulative Variance Explained: 100.00%\n",
      "\n",
      "Component 40:\n",
      "Eigenvalue: 157.5927954432743\n",
      "Variance Explained: 0.00%\n",
      "Cumulative Variance Explained: 100.00%\n",
      "\n",
      "Component 41:\n",
      "Eigenvalue: 155.92931476420307\n",
      "Variance Explained: 0.00%\n",
      "Cumulative Variance Explained: 100.00%\n",
      "\n",
      "Component 42:\n",
      "Eigenvalue: 138.07094302634425\n",
      "Variance Explained: 0.00%\n",
      "Cumulative Variance Explained: 100.00%\n",
      "\n",
      "Component 43:\n",
      "Eigenvalue: 133.40571432170174\n",
      "Variance Explained: 0.00%\n",
      "Cumulative Variance Explained: 100.00%\n",
      "\n",
      "Component 44:\n",
      "Eigenvalue: 124.85499849650391\n",
      "Variance Explained: 0.00%\n",
      "Cumulative Variance Explained: 100.00%\n",
      "\n",
      "Component 45:\n",
      "Eigenvalue: 118.92277951211533\n",
      "Variance Explained: 0.00%\n",
      "Cumulative Variance Explained: 100.00%\n",
      "\n",
      "Component 46:\n",
      "Eigenvalue: 111.64993554175048\n",
      "Variance Explained: 0.00%\n",
      "Cumulative Variance Explained: 100.00%\n",
      "\n",
      "Component 47:\n",
      "Eigenvalue: 108.08237466964765\n",
      "Variance Explained: 0.00%\n",
      "Cumulative Variance Explained: 100.00%\n",
      "\n",
      "Component 48:\n",
      "Eigenvalue: 81.99502747097449\n",
      "Variance Explained: 0.00%\n",
      "Cumulative Variance Explained: 100.00%\n",
      "\n",
      "Component 49:\n",
      "Eigenvalue: 76.74566385285044\n",
      "Variance Explained: 0.00%\n",
      "Cumulative Variance Explained: 100.00%\n",
      "\n",
      "Component 50:\n",
      "Eigenvalue: 62.144046952136335\n",
      "Variance Explained: 0.00%\n",
      "Cumulative Variance Explained: 100.00%\n",
      "\n",
      "Component 51:\n",
      "Eigenvalue: 61.594186548512106\n",
      "Variance Explained: 0.00%\n",
      "Cumulative Variance Explained: 100.00%\n",
      "\n",
      "Component 52:\n",
      "Eigenvalue: 45.03227372066638\n",
      "Variance Explained: 0.00%\n",
      "Cumulative Variance Explained: 100.00%\n",
      "\n"
     ]
    }
   ],
   "source": [
    "eigenvalues = pca.singular_values_\n",
    "total_variance = np.sum(pca.explained_variance_) # total variance explained\n",
    "variance_ratio = pca.explained_variance_ratio_ # % of variance explained by each component\n",
    "cumulative_variance_ratio = np.cumsum(variance_ratio) # Cumulative % of variance explained\n",
    "\n",
    "for i, (eigenvalue, variance, cum_variance) in enumerate(zip(eigenvalues, variance_ratio, cumulative_variance_ratio), 1):\n",
    "    print(f\"Component {i}:\")\n",
    "    print(f\"Eigenvalue: {eigenvalue}\")\n",
    "    print(f\"Variance Explained: {variance:.2%}\")\n",
    "    print(f\"Cumulative Variance Explained: {cum_variance:.2%}\")\n",
    "    print(\"\")"
   ]
  },
  {
   "cell_type": "code",
   "execution_count": 49,
   "id": "ff0369fb-1239-48a7-a3fc-84aafbc8c923",
   "metadata": {
    "tags": []
   },
   "outputs": [
    {
     "data": {
      "image/png": "[encoded data removed]",
      "text/plain": [
       "<Figure size 2000x700 with 1 Axes>"
      ]
     },
     "metadata": {},
     "output_type": "display_data"
    }
   ],
   "source": [
    "# explained variance ratio\n",
    "plt.figure(figsize=(20, 7))\n",
    "plt.plot(range(1, len(variance_ratio) + 1), variance_ratio, marker='o')\n",
    "plt.xlabel('Number of Principal Components')\n",
    "plt.ylabel('Explained Variance Ratio')\n",
    "plt.title('Explained Variance Ratio by Principal Components')\n",
    "plt.xticks(range(1, len(variance_ratio) + 1))\n",
    "plt.grid(True)\n",
    "plt.show()"
   ]
  },
  {
   "cell_type": "code",
   "execution_count": 50,
   "id": "8dd17916-b67c-4443-9764-30816439abfa",
   "metadata": {
    "tags": []
   },
   "outputs": [
    {
     "data": {
      "image/png": "[encoded data removed]",
      "text/plain": [
       "<Figure size 2000x700 with 1 Axes>"
      ]
     },
     "metadata": {},
     "output_type": "display_data"
    }
   ],
   "source": [
    "# cumulative explained variance\n",
    "plt.figure(figsize=(20, 7))\n",
    "plt.plot(range(1, len(cumulative_variance_ratio) + 1), cumulative_variance_ratio, marker='o', linestyle='--')\n",
    "plt.xlabel('Number of Principal Components')\n",
    "plt.ylabel('Cumulative Explained Variance Ratio')\n",
    "plt.title('Cumulative Explained Variance Ratio by Principal Components')\n",
    "plt.xticks(range(1, len(cumulative_variance_ratio) + 1))\n",
    "plt.grid(True)\n",
    "plt.show()"
   ]
  },
  {
   "cell_type": "markdown",
   "id": "eb2717c1-6c67-44ca-bc10-6836ef9ad131",
   "metadata": {
    "tags": []
   },
   "source": [
    "### Check if PCA is needed"
   ]
  },
  {
   "cell_type": "code",
   "execution_count": 51,
   "id": "d7c1f697-bb84-4945-9877-048a2e9c4771",
   "metadata": {
    "tags": []
   },
   "outputs": [],
   "source": [
    "X_train, X_test, y_train, y_test = train_test_split(X, y, test_size=0.2, random_state=42)"
   ]
  },
  {
   "cell_type": "code",
   "execution_count": 53,
   "id": "cda2b430-b22c-4fa8-9ba1-13cae588b2a4",
   "metadata": {},
   "outputs": [],
   "source": [
    "model = XGBClassifier()"
   ]
  },
  {
   "cell_type": "markdown",
   "id": "1135ab02-49db-4c73-af5f-bfe9546299b3",
   "metadata": {
    "tags": []
   },
   "source": [
    "#### 95% Variance Explained"
   ]
  },
  {
   "cell_type": "code",
   "execution_count": 54,
   "id": "3aaf89d4-2f6c-48e8-97d6-b440c16ae444",
   "metadata": {
    "tags": []
   },
   "outputs": [],
   "source": [
    "# n_components = 26\n",
    "pca = PCA(n_components=0.95)\n",
    "X_train_pca = pca.fit_transform(X_train)\n",
    "X_test_pca = pca.transform(X_test)"
   ]
  },
  {
   "cell_type": "code",
   "execution_count": 58,
   "id": "bd207a16-c5c3-40b5-9530-a9d11bc5741d",
   "metadata": {
    "tags": []
   },
   "outputs": [],
   "source": [
    "# model with PCA\n",
    "model.fit(X_train_pca, y_train)\n",
    "y_train_pred_pca = model.predict(X_train_pca)\n",
    "y_test_pred_pca = model.predict(X_test_pca)\n",
    "\n",
    "y_train_prob_pca = model.predict_proba(X_train_pca)[:, 1] \n",
    "y_test_prob_pca = model.predict_proba(X_test_pca)[:, 1] "
   ]
  },
  {
   "cell_type": "code",
   "execution_count": 61,
   "id": "774eaeb5-ca6c-44a5-9625-8628656e9c97",
   "metadata": {},
   "outputs": [
    {
     "data": {
      "text/plain": [
       "{'Accuracy': 0.8017763116158092,\n",
       " 'Precision': 0.0,\n",
       " 'Recall': 0.0,\n",
       " 'AUC': 0.610353643179987}"
      ]
     },
     "execution_count": 61,
     "metadata": {},
     "output_type": "execute_result"
    }
   ],
   "source": [
    "performance_metrics(y_test, y_test_pred_pca, y_test_prob_pca)"
   ]
  },
  {
   "cell_type": "markdown",
   "id": "63294ecd-be37-4b3a-abdf-268aff09fd97",
   "metadata": {
    "tags": []
   },
   "source": [
    "#### Without PCA"
   ]
  },
  {
   "cell_type": "code",
   "execution_count": 62,
   "id": "199772fc-9d0b-47f9-ab97-bcf736181268",
   "metadata": {
    "scrolled": true
   },
   "outputs": [],
   "source": [
    "model.fit(X_train, y_train)\n",
    "# predict - train and test data\n",
    "y_train_pred = model.predict(X_train)\n",
    "y_test_pred = model.predict(X_test)\n",
    "\n",
    "# predict probabilities to get the ROC-AUC and log loss\n",
    "y_train_prob = model.predict_proba(X_train)[:, 1]\n",
    "y_test_prob = model.predict_proba(X_test)[:, 1]"
   ]
  },
  {
   "cell_type": "code",
   "execution_count": 63,
   "id": "3e93c90a-7419-47e9-a730-312524440cd1",
   "metadata": {
    "scrolled": true,
    "tags": []
   },
   "outputs": [
    {
     "data": {
      "text/plain": [
       "{'Accuracy': 0.8047199137220072,\n",
       " 'Precision': 0.5361596009975063,\n",
       " 'Recall': 0.11009409204378161,\n",
       " 'AUC': 0.7171127566311017}"
      ]
     },
     "execution_count": 63,
     "metadata": {},
     "output_type": "execute_result"
    }
   ],
   "source": [
    "performance_metrics(y_test, y_test_pred, y_test_prob)"
   ]
  },
  {
   "cell_type": "markdown",
   "id": "4289c5b1-497e-4148-b27b-9542507b7956",
   "metadata": {
    "tags": []
   },
   "source": [
    "# Export Cleaned Data"
   ]
  },
  {
   "cell_type": "code",
   "execution_count": 64,
   "id": "9d58a435-9eaa-4e72-b9a1-3d6e67bf3145",
   "metadata": {
    "tags": []
   },
   "outputs": [
    {
     "data": {
      "text/plain": [
       "(394073, 77)"
      ]
     },
     "execution_count": 64,
     "metadata": {},
     "output_type": "execute_result"
    }
   ],
   "source": [
    "clean_data.shape"
   ]
  },
  {
   "cell_type": "code",
   "execution_count": 65,
   "id": "3cd087a7-7fd2-4d98-aef4-521eebcdd550",
   "metadata": {
    "tags": []
   },
   "outputs": [
    {
     "data": {
      "text/plain": [
       "(394073, 53)"
      ]
     },
     "execution_count": 65,
     "metadata": {},
     "output_type": "execute_result"
    }
   ],
   "source": [
    "cleaned_data.shape"
   ]
  },
  {
   "cell_type": "code",
   "execution_count": 66,
   "id": "2ba55799-1562-4698-b807-892b11170688",
   "metadata": {},
   "outputs": [
    {
     "data": {
      "text/plain": [
       "Index(['loan_amnt', 'term', 'int_rate', 'annual_inc', 'dti', 'delinq_2yrs', 'fico_range_low', 'open_acc', 'pub_rec', 'revol_bal', 'revol_util', 'total_acc', 'total_rev_hi_lim', 'avg_cur_bal', 'bc_open_to_buy', 'bc_util', 'mo_sin_old_il_acct', 'mo_sin_old_rev_tl_op', 'mo_sin_rcnt_rev_tl_op', 'mo_sin_rcnt_tl', 'mort_acc', 'mths_since_recent_bc', 'num_actv_bc_tl', 'num_actv_rev_tl', 'num_bc_sats', 'num_bc_tl', 'num_op_rev_tl', 'pct_tl_nvr_dlq', 'percent_bc_gt_75', 'pub_rec_bankruptcies',\n",
       "       'tot_hi_cred_lim', 'total_bc_limit', 'annual_inc_installment', 'annual_inc_dti', 'loan_amnt_dti', 'home_ownership_MORTGAGE', 'home_ownership_RENT', 'verification_status_Source Verified', 'verification_status_Verified', 'purpose_credit_card', 'purpose_debt_consolidation', 'purpose_home_improvement', 'purpose_small_business', 'application_type_Joint App', 'region_SouthEast', 'region_West', 'annual_inc_binned_Low', 'annual_inc_binned_Medium', 'annual_inc_binned_Very High',\n",
       "       'annual_inc_binned_Very Low', 'revol_bal_binned_Medium', 'revol_bal_binned_Very Low', 'target'],\n",
       "      dtype='object')"
      ]
     },
     "execution_count": 66,
     "metadata": {},
     "output_type": "execute_result"
    }
   ],
   "source": [
    "cleaned_data.columns"
   ]
  },
  {
   "cell_type": "code",
   "execution_count": 167,
   "id": "37be8e74-02d9-401b-ab39-9b84f0e006ca",
   "metadata": {},
   "outputs": [
    {
     "data": {
      "text/plain": [
       "(394073, 53)"
      ]
     },
     "execution_count": 167,
     "metadata": {},
     "output_type": "execute_result"
    }
   ],
   "source": [
    "cleaned_data.shape"
   ]
  },
  {
   "cell_type": "code",
   "execution_count": 169,
   "id": "8d3e9f3e-bbd2-42ef-b992-f2d66d70a266",
   "metadata": {
    "tags": []
   },
   "outputs": [],
   "source": [
    "cleaned_data.to_csv('Cleaned_data_53v_Final.csv', index = False)"
   ]
  },
  {
   "cell_type": "code",
   "execution_count": null,
   "id": "816c6aa3-a5d1-4c3c-853f-03f64d9822d6",
   "metadata": {},
   "outputs": [],
   "source": []
  }
 ],
 "metadata": {
  "kernelspec": {
   "display_name": "Python 3 (ipykernel)",
   "language": "python",
   "name": "python3"
  },
  "language_info": {
   "codemirror_mode": {
    "name": "ipython",
    "version": 3
   },
   "file_extension": ".py",
   "mimetype": "text/x-python",
   "name": "python",
   "nbconvert_exporter": "python",
   "pygments_lexer": "ipython3",
   "version": "3.11.5"
  }
 },
 "nbformat": 4,
 "nbformat_minor": 5
}
